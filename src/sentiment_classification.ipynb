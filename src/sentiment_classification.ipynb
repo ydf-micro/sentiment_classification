{
 "cells": [
  {
   "cell_type": "code",
   "execution_count": 2,
   "metadata": {
    "collapsed": true,
    "pycharm": {
     "is_executing": false
    }
   },
   "outputs": [],
   "source": [
    "import numpy as np\n",
    "import pandas as pd\n",
    "import matplotlib.pyplot as plt\n",
    "import os\n",
    "import tensorflow as tf\n",
    "from collections import Counter\n",
    "import tqdm\n",
    "import codecs\n",
    "%matplotlib inline"
   ]
  },
  {
   "cell_type": "code",
   "execution_count": 3,
   "outputs": [
    {
     "data": {
      "text/plain": "['neg.txt', 'glove.6B.300d.txt', 'pos.txt']"
     },
     "metadata": {},
     "output_type": "execute_result",
     "execution_count": 3
    }
   ],
   "source": [
    "os.listdir('../data')"
   ],
   "metadata": {
    "collapsed": false,
    "pycharm": {
     "name": "#%%\n",
     "is_executing": false
    }
   }
  },
  {
   "cell_type": "code",
   "execution_count": 4,
   "outputs": [],
   "source": [
    "with codecs.open('../data/pos.txt', 'r') as f:\n",
    "    pos_text = f.read()\n",
    "\n",
    "with codecs.open('../data/neg.txt', 'r') as f:\n",
    "    neg_text = f.read()"
   ],
   "metadata": {
    "collapsed": false,
    "pycharm": {
     "name": "#%%\n",
     "is_executing": false
    }
   }
  },
  {
   "cell_type": "code",
   "execution_count": 5,
   "outputs": [
    {
     "name": "stdout",
     "text": [
      "-------------------- POSITIVE TEXT --------------------\nTotal positive sentences: 5331\nThe average length of positive sentences: 21.0921027949728\nThe max length of positive sentences: 59\nThe min length of positive sentences 2\nMost common words in positive sentences: \n[('.', 6972), (',', 5268), ('the', 5051), ('a', 3830), ('and', 3548), ('of', 3311), ('to', 1969), ('is', 1707), ('in', 1338), ('that', 1262), ('it', 1100), ('with', 883), ('as', 879), ('film', 822), ('but', 782), ('an', 754), ('its', 699), ('for', 673), ('this', 666), (\"it's\", 564), ('movie', 510), ('you', 494), ('on', 424), ('be', 419), ('by', 380), ('has', 379), ('not', 367), ('one', 366), ('at', 366), ('about', 363), ('from', 349), ('are', 348), ('his', 344), ('\"', 330), ('--', 319), ('more', 311), ('all', 289), ('than', 282), ('like', 281), ('if', 264), ('have', 259), ('story', 256), ('who', 247), ('most', 240), ('what', 225), ('into', 213), ('so', 209), ('will', 199), ('good', 198), ('comedy', 192), ('or', 189), ('i', 181), ('funny', 181), ('even', 180), ('out', 178), ('their', 175), ('best', 166), ('can', 166), ('some', 164), ('way', 164), ('time', 158), ('us', 156), ('much', 154), ('up', 154), ('make', 151), ('love', 149), ('just', 148), ('makes', 144), ('life', 144), ('characters', 144), ('may', 141), ('work', 139), ('performances', 138), ('your', 135), ('very', 135), ('little', 129), ('enough', 127), ('while', 123), ('her', 123), ('no', 120), ('still', 120), ('director', 119), ('look', 119), ('there', 118), ('well', 117), ('both', 114), ('fun', 113), ('movies', 111), ('drama', 111), ('new', 110), ('never', 110), ('those', 109), ('films', 109), ('we', 108), ('when', 107), ('great', 105), ('(', 104), (')', 104), ('which', 104), ('only', 103)]\n-------------------- NEGATIVE TEXT --------------------\nTotal negative sentences: 5331\nThe average length of negative sentences: 20.93884824610767\nThe max length of negative sentences: 56\nThe min length of negative sentences 1\nMost common words in negative sentences: \n[('.', 7038), ('the', 5045), (',', 4769), ('a', 3451), ('of', 2750), ('and', 2647), ('to', 2264), ('is', 1660), ('in', 1290), ('that', 1208), ('it', 1181), ('as', 922), ('but', 855), ('this', 774), ('for', 763), ('movie', 758), ('with', 677), ('its', 636), ('film', 623), ('an', 567), (\"it's\", 555), ('be', 520), ('on', 471), ('like', 439), ('not', 436), ('more', 416), ('by', 415), ('you', 398), ('than', 382), ('about', 370), ('too', 365), ('have', 364), ('one', 361), ('are', 360), ('all', 352), ('so', 346), ('at', 339), ('or', 330), ('has', 330), ('\"', 325), ('from', 324), ('--', 310), ('just', 290), ('i', 285), ('his', 284), ('if', 273), ('no', 267), ('much', 232), ('up', 222), ('story', 220), ('out', 220), ('bad', 206), ('only', 205), ('into', 204), ('even', 202), ('what', 188), ('who', 185), ('time', 181), ('good', 179), ('will', 175), ('little', 173), ('can', 171), ('some', 170), ('been', 169), ('characters', 169), ('?', 167), ('most', 162), ('comedy', 161), ('when', 155), (\"doesn't\", 153), ('never', 152), ('would', 148), ('was', 143), ('enough', 140), ('which', 137), (\"there's\", 137), ('he', 137), ('there', 132), ('way', 132), ('very', 130), ('really', 130), ('your', 129), ('any', 128), ('make', 127), (':', 124), (')', 124), ('they', 123), ('(', 122), ('nothing', 121), ('plot', 120), ('their', 117), (\"isn't\", 116), ('should', 116), ('could', 115), ('every', 114), ('something', 113), ('director', 112), ('made', 109), ('we', 109), ('through', 108)]\n"
     ],
     "output_type": "stream"
    }
   ],
   "source": [
    "print('-'*20 + ' POSITIVE TEXT ' + '-'*20)\n",
    "pos_sentences = pos_text.lower().split('\\n')\n",
    "sen_len = [len(sentence.split()) for sentence in pos_sentences]\n",
    "print(f'Total positive sentences: {len(pos_sentences)}')\n",
    "print(f'The average length of positive sentences: '\n",
    "      f'{np.mean(sen_len)}')\n",
    "print(f'The max length of positive sentences: '\n",
    "      f'{np.max(sen_len)}')\n",
    "print(f'The min length of positive sentences '\n",
    "      f'{np.min(sen_len)}')\n",
    "c = Counter(pos_text.split()).most_common(100)\n",
    "print(f'Most common words in positive sentences: \\n{c}')\n",
    "\n",
    "print('-'*20 + ' NEGATIVE TEXT ' + '-'*20)\n",
    "neg_sentences = neg_text.lower().split('\\n')\n",
    "sen_len = [len(sentence.split()) for sentence in neg_sentences]\n",
    "print(f'Total negative sentences: {len(neg_sentences)}')\n",
    "print(f'The average length of negative sentences: '\n",
    "      f'{np.mean(sen_len)}')\n",
    "print(f'The max length of negative sentences: '\n",
    "      f'{np.max(sen_len)}')\n",
    "print(f'The min length of negative sentences '\n",
    "      f'{np.min(sen_len)}')\n",
    "c = Counter(neg_text.split()).most_common(100)\n",
    "print(f'Most common words in negative sentences: \\n{c}')"
   ],
   "metadata": {
    "collapsed": false,
    "pycharm": {
     "name": "#%%\n",
     "is_executing": false
    }
   }
  },
  {
   "cell_type": "code",
   "execution_count": 6,
   "outputs": [],
   "source": [
    "SENTENCE_LIMIT_SIZE = 20"
   ],
   "metadata": {
    "collapsed": false,
    "pycharm": {
     "name": "#%%\n",
     "is_executing": false
    }
   }
  },
  {
   "cell_type": "code",
   "execution_count": 7,
   "outputs": [
    {
     "data": {
      "text/plain": "[(\"century's\", 1),\n ('jean-claud', 1),\n ('segal', 1),\n ('middle-earth', 1),\n ('too-tepid', 1),\n ('showed', 1),\n ('curls', 1),\n ('fed', 1),\n ('ponders', 1),\n (\"it'\", 1),\n ('enrapturing', 1),\n ('tempt', 1),\n ('inscrutable', 1),\n ('spiderman', 1),\n ('latent', 1),\n ('gangsta', 1),\n ('shook', 1),\n ('rattled', 1),\n ('deceptive', 1),\n ('grimness', 1),\n ('fatalist', 1),\n ('worldview', 1),\n ('lobbies', 1),\n ('two-lane', 1),\n ('roadside', 1),\n ('cafes', 1),\n ('permeate', 1),\n ('bona-fide', 1),\n ('outings', 1),\n ('cartoonlike', 1),\n ('magnet', 1),\n ('co-star', 1),\n (\"'compleja\", 1),\n ('intelectualmente', 1),\n ('retadora', 1),\n ('ladrón', 1),\n ('orquídeas', 1),\n ('esos', 1),\n ('filmes', 1),\n ('precisamente', 1),\n ('originalidad', 1),\n ('karmen', 1),\n ('chanting', 1),\n ('braided', 1),\n ('wipe', 1),\n ('jeweled', 1),\n ('beads', 1),\n ('lacerating', 1),\n (\"'50's\", 1),\n ('cheesiness', 1),\n (\"johnson's\", 1),\n ('orchestrates', 1),\n ('siberian', 1),\n ('sheep', 1),\n ('hosts', 1),\n ('parka-wrapped', 1),\n ('everytime', 1),\n ('singer/composer', 1),\n ('contributes', 1),\n ('slew', 1),\n ('intrusive', 1),\n ('enlightened', 1),\n (\"derrida's\", 1),\n (\"1998's\", 1),\n ('chiaroscuro', 1),\n ('uncontrolled', 1),\n ('farther', 1),\n ('quietness', 1),\n ('domineering', 1),\n (\"mother's\", 1),\n ('shadings', 1),\n ('coloring', 1),\n ('treebeard', 1),\n (\"'performance'\", 1),\n ('ingeniously', 1),\n ('aberration', 1),\n ('originally', 1),\n ('comedy/thriller', 1),\n ('orchestrate', 1),\n ('overpraised', 1),\n ('catchy', 1),\n ('spycraft', 1),\n (\"damon's\", 1),\n ('katz', 1),\n ('lynchings', 1),\n ('reel-to-reel', 1),\n ('recordings', 1),\n ('meeropol', 1),\n ('anthropologically', 1),\n (\"early-'80s\", 1),\n ('suburbia', 1),\n ('interstitial', 1),\n ('vertiginous', 1),\n ('embers', 1),\n ('dormant', 1),\n ('calcified', 1),\n ('chronic', 1),\n (\"irwin's\", 1),\n ('hemmingway', 1),\n ('accelerated', 1),\n ('lovers-on-the-run', 1),\n (\"piesiewicz's\", 1),\n ('veronique', 1),\n ('again-courage', 1),\n ('sl2', 1),\n ('self-contained', 1),\n ('pabst', 1),\n ('ribbon', 1),\n ('du', 1),\n ('sarcasm', 1),\n ('quizzical', 1),\n ('syncopated', 1),\n ('mimicking', 1),\n ('memory-as-identity', 1),\n ('obviation', 1),\n ('long-held', 1),\n ('illusions', 1),\n ('erasing', 1),\n ('recasts', 1),\n ('gambol', 1),\n ('fluidly', 1),\n ('b-scene', 1),\n ('digital-video', 1),\n ('comedians', 1),\n (\"'truth'\", 1),\n ('deconstructing', 1),\n ('blessing', 1),\n ('thunderous', 1),\n ('cadences', 1),\n ('shortage', 1),\n ('responsive', 1),\n ('koreans', 1),\n ('gourmet', 1),\n ('drive-thru', 1),\n ('strap', 1),\n ('frontier', 1),\n ('logistical', 1),\n ('milestone', 1),\n ('[schweiger', 1),\n ('steak', 1),\n ('minefield', 1),\n ('gorefests', 1),\n ('connoisseur', 1),\n ('lo-fi', 1),\n ('15-cent', 1),\n ('stump', 1),\n ('hogs', 1),\n ('conan-esque', 1),\n ('partially', 1),\n ('minty', 1),\n ('prizes', 1),\n ('rambunctious', 1),\n ('non-jew', 1),\n ('happiest', 1),\n ('[but', 1),\n (\"it's]\", 1),\n ('backs', 1),\n ('commodity', 1),\n ('homespun', 1),\n ('mule', 1),\n ('skinner', 1),\n ('posse', 1),\n ('seaworthy', 1),\n ('sock-you-in-the-eye', 1),\n ('non-reactionary', 1),\n ('near-disaster', 1),\n ('makmalbaf', 1),\n ('kurdish', 1),\n ('borderlands', 1),\n ('chunk', 1),\n ('pinch', 1),\n ('tartness', 1),\n ('tribulations', 1),\n (\"comedy'\", 1),\n (\"willams'\", 1),\n ('ebb', 1),\n ('deposits', 1),\n ('[jack', 1),\n (\"nicholson's]\", 1),\n ('20-year-old', 1),\n ('exhilarate', 1),\n ('beanie', 1),\n ('ever-escalating', 1),\n ('latifah', 1),\n ('flaunting', 1),\n ('actor/director', 1),\n ('giles', 1),\n ('nuttgens', 1),\n ('contradictions', 1),\n ('lump-in-the-throat', 1),\n ('diverted', 1),\n ('lightens', 1),\n ('bigger-than-life', 1),\n ('questing', 1),\n ('racked', 1),\n ('genet', 1),\n ('rechy', 1),\n ('fassbinder', 1),\n ('nocturnal', 1),\n ('goya', 1),\n ('badge', 1),\n ('permutations', 1),\n ('[drumline]', 1),\n ('headlines', 1),\n ('1995', 1),\n ('disapproval', 1),\n ('tinge', 1),\n ('crystalline', 1),\n ('three-year-old', 1),\n ('fictionalize', 1),\n ('visits', 1),\n ('slice-of-depression', 1),\n ('grasped', 1),\n ('composing', 1),\n ('preteens', 1),\n (\"o's\", 1),\n ('knock-offs', 1),\n ('political-action', 1),\n ('fastidiousness', 1),\n ('ellefsen', 1),\n ('frailties', 1),\n ('magnified', 1),\n ('vex', 1),\n (\"petin's\", 1),\n ('penetrates', 1),\n ('tantalizing', 1),\n ('provocatuers', 1),\n ('aroused', 1),\n ('mideast', 1),\n ('perceptively', 1),\n ('jirí', 1),\n (\"hubac's\", 1),\n ('silberstein', 1),\n ('additional', 1),\n ('shapelessly', 1),\n ('gratifying', 1),\n ('appraisal', 1),\n ('anti-date', 1),\n ('intently', 1),\n ('regimes', 1),\n ('figurative', 1),\n ('port-of-call', 1),\n ('even-handed', 1),\n ('dock', 1),\n ('unloading', 1),\n ('greek-american', 1),\n ('testify', 1),\n ('comparative', 1),\n ('inhabited', 1),\n ('venomous', 1),\n ('bigotries', 1),\n ('theocracy', 1),\n ('antithesis', 1),\n ('dazzlingly', 1),\n (\"münch's\", 1),\n ('overindulgence', 1),\n ('deteriorating', 1),\n ('croc', 1),\n ('disrupts', 1),\n ('re-enactments', 1),\n ('character-based', 1),\n ('endearingly', 1),\n ('post-soviet', 1),\n ('russia', 1),\n ('bishop', 1),\n ('standouts', 1),\n ('bastions', 1),\n ('ikea', 1),\n ('blurred', 1),\n ('razor', 1),\n ('transferral', 1),\n ('spy-on-the-run', 1),\n ('sanded', 1),\n ('microcosm', 1),\n ('dabbling', 1),\n ('authors', 1),\n ('battista', 1),\n ('directress', 1),\n ('breezily', 1),\n ('apolitical', 1),\n ('gawk', 1),\n ('wallpaper', 1),\n ('hu', 1),\n ('matter-of-fact', 1),\n ('glint', 1),\n ('raja', 1),\n ('enthuse', 1),\n (\"andersson's\", 1),\n ('rigorous', 1),\n ('distancing', 1),\n ('real-live', 1),\n ('movingly', 1),\n ('179-minute', 1),\n ('institution--acted', 1),\n ('weakened', 1),\n ('supportive', 1),\n ('40-minute', 1),\n ('valedictory', 1),\n ('bargain', 1),\n ('shards', 1),\n ('gyro', 1),\n (\"'bartleby'\", 1),\n ('farrell', 1),\n ('foil', 1),\n (\"willis's\", 1),\n ('world-weary', 1),\n ('colonel', 1),\n ('conditioned', 1),\n ('saucer-eyed', 1),\n ('downy-cheeked', 1),\n ('moppets', 1),\n ('sugar-free', 1),\n ('post-breakup', 1),\n (\"sayles'\", 1),\n ('wordplay', 1),\n ('preference', 1),\n ('indomitable', 1),\n ('ostentatious', 1),\n (\"african-american's\", 1),\n ('randy', 1),\n ('figuratively', 1),\n ('[sex', 1),\n ('lucía]', 1),\n ('arousing', 1),\n ('andré', 1),\n ('turpin', 1),\n (\"renner's\", 1),\n ('award-worthy', 1),\n ('rhythmic', 1),\n ('adulthood', 1),\n ('fraught', 1),\n ('wannabes', 1),\n ('addessi', 1),\n ('beatrice', 1),\n (\"jones'\", 1),\n ('melding', 1),\n ('reflecting', 1),\n ('heartbeat-like', 1),\n ('whole-heartedly', 1),\n ('movie--', 1),\n ('longley', 1),\n ('horrifically', 1),\n (\"crowd-pleaser's\", 1),\n ('gruelling', 1),\n (\"wollter's\", 1),\n ('euro-film', 1),\n ('rockwell', 1),\n ('vastness', 1),\n ('green-guts', 1),\n ('beaut', 1),\n ('bundy', 1),\n ('reilly', 1),\n ('octopus', 1),\n ('deceivingly', 1),\n ('retrospect', 1),\n ('ana', 1),\n ('[anderson]', 1),\n ('ho-tep', 1),\n ('likability', 1),\n ('increments', 1),\n ('camouflaged', 1),\n (\"'brazil\", 1),\n ('goddammit', 1),\n ('adoration', 1),\n ('hogwarts', 1),\n ('mischief', 1),\n ('heart-on-its-sleeve', 1),\n ('redgrave', 1),\n ('aquatic', 1),\n ('baja', 1),\n ('peninsula', 1),\n ('mexico', 1),\n ('hyper-time', 1),\n ('grenier', 1),\n ('heidegger-', 1),\n ('nietzsche-referencing', 1),\n ('patois', 1),\n ('mullinski', 1),\n ('compact', 1),\n ('breezes', 1),\n ('imagining', 1),\n ('sardine', 1),\n (\"'face\", 1),\n (\"value'\", 1),\n ('wimp', 1),\n ('cried', 1),\n ('heart-affecting', 1),\n ('displayed', 1),\n ('33-year-old', 1),\n ('inexperience', 1),\n ('division', 1),\n ('risk-takers', 1),\n ('sandwiched', 1),\n ('heart-rending', 1),\n ('buzz-obsessed', 1),\n ('descend', 1),\n ('utah', 1),\n ('ferret', 1),\n (\"'tadpole'\", 1),\n ('declared', 1),\n (\"elliott's\", 1),\n ('fashions', 1),\n ('character-', 1),\n ('and-', 1),\n ('connects', 1),\n ('double-crosses', 1),\n ('ranging', 1),\n ('gathers', 1),\n (\"l'avventura\", 1),\n ('repulsion', 1),\n ('congeals', 1),\n ('tingle', 1),\n (\"'barbershop'\", 1),\n ('anytime', 1),\n ('narcotizing', 1),\n ('ensnaring', 1),\n ('[taymor]', 1),\n ('utilizes', 1),\n ('catapulting', 1),\n ('eye-opening', 1),\n ('oblivion', 1),\n ('examined', 1),\n (\"villeneuve's\", 1),\n ('sugar-coating', 1),\n ('[villeneuve]', 1),\n ('intuitively', 1),\n ('squalor', 1),\n ('bared', 1),\n ('confronted', 1),\n ('code-talk', 1),\n ('out-stealth', 1),\n ('precollegiate', 1),\n ('liberated', 1),\n (\"hogan's\", 1),\n (\"reno's\", 1),\n ('suffused', 1),\n ('trumpets', 1),\n ('go-round', 1),\n ('headlong', 1),\n ('delinquent', 1),\n ('peter/spider-man', 1),\n ('myths', 1),\n ('afresh', 1),\n ('arouse', 1),\n ('unknowing', 1),\n ('[sinks]', 1),\n ('resolute', 1),\n ('nakedness', 1),\n ('interwoven…', 1),\n ('positions', 1),\n ('stimulates', 1),\n ('unobtrusively', 1),\n (\"version's\", 1),\n ('plentiful', 1),\n ('provide[s]', 1),\n ('technology-of-the-moment', 1),\n ('manipulate', 1),\n ('saturation', 1),\n (\"glass'\", 1),\n ('divining', 1),\n ('confirmation', 1),\n ('unelected', 1),\n ('incurious', 1),\n ('uncharismatic', 1),\n ('overgrown', 1),\n ('whiplash', 1),\n ('time-honored', 1),\n ('bowel-curdling', 1),\n ('heart-stopping', 1),\n ('unmentioned', 1),\n ('amalgamating', 1),\n ('not-so-stock', 1),\n ('super-cool', 1),\n ('relax', 1),\n ('undoubted', 1),\n ('extensions', 1),\n ('charmers', 1),\n ('pencil-thin', 1),\n ('pro-fat', 1),\n ('sparklingly', 1),\n ('consciousness-raiser', 1),\n ('bonehead', 1),\n ('deciding', 1),\n ('affirmation', 1),\n ('good-deed/bad-deed', 1),\n ('reversals', 1),\n ('sinner', 1),\n ('symmetrical', 1),\n ('cross-shaped', 1),\n ('unaccustomed', 1),\n ('contests', 1),\n (\"griffin's\", 1),\n ('testimonials', 1),\n ('arena', 1),\n ('barrett', 1),\n ('browning', 1),\n ('hmm', 1),\n ('800-page', 1),\n ('nurturing', 1),\n ('gauzy', 1),\n ('dithering', 1),\n ('zigs', 1),\n ('zags', 1),\n ('laser-projected', 1),\n ('spell-casting', 1),\n ('dreyfus', 1),\n ('grader', 1),\n ('b-minus', 1),\n ('patterns', 1),\n ('ideals', 1),\n ('fatality', 1),\n ('classism', 1),\n ('ignorance', 1),\n ('meat-and-potatoes', 1),\n ('shticks', 1),\n ('sympathetically', 1),\n ('[gai]', 1),\n ('personifying', 1),\n ('intimidating', 1),\n ('horror/thriller', 1),\n ('well-known', 1),\n ('blobby', 1),\n ('superlarge', 1),\n ('changer', 1),\n ('self-evaluation', 1),\n ('guidance', 1),\n ('invade', 1),\n ('mindsets', 1),\n ('fanatically', 1),\n ('fetishized', 1),\n ('old-movie', 1),\n ('idiosyncrasy', 1),\n ('monastic', 1),\n ('peter]', 1),\n ('majesty', 1),\n ('slipper', 1),\n ('holidays', 1),\n ('incarnates', 1),\n ('prophetic', 1),\n ('exacting', 1),\n ('patronized', 1),\n ('crafts', 1),\n ('‘what', 1),\n (\"see'\", 1),\n ('incandescent', 1),\n ('stupendous', 1),\n ('unsettling--but', 1),\n ('unquestionably', 1),\n ('13-year-old', 1),\n ('bedouins', 1),\n ('wide-ranging', 1),\n ('non-shakespeare', 1),\n ('softest', 1),\n ('revolt', 1),\n ('off-the-cuff', 1),\n ('gunning', 1),\n (\"bow's\", 1),\n ('preschool', 1),\n ('good-humored', 1),\n ('charmingly', 1),\n ('bola', 1),\n ('peeved', 1),\n ('nalin', 1),\n ('crime-film', 1),\n ('loosey-goosey', 1),\n ('is…', 1),\n ('destinees', 1),\n ('bedevils', 1),\n ('77-minute', 1),\n ('40-year-old', 1),\n ('soldier', 1),\n ('45-minute', 1),\n ('teamwork', 1),\n ('molony', 1),\n ('parisian', 1),\n ('pg-rated', 1),\n ('ensnared', 1),\n ('ferocious', 1),\n ('gosh', 1),\n ('quests', 1),\n ('courting', 1),\n ('preposterousness', 1),\n ('interference', 1),\n ('margolo', 1),\n ('computer-animated', 1),\n ('self-actualization', 1),\n ('continental', 1),\n ('divides', 1),\n ('profiles', 1),\n (\"another's\", 1),\n ('screen-eating', 1),\n ('dominatrixes', 1),\n ('tango', 1),\n ('camera-work', 1),\n ('characterizing', 1),\n ('knots', 1),\n ('mock-tarantino', 1),\n ('scuzbag', 1),\n ('delicacy', 1),\n ('surpassed', 1),\n ('empress', 1),\n (\"leoni's\", 1),\n ('ellie', 1),\n ('recapturing', 1),\n ('pauses', 1),\n ('locked', 1),\n ('cat-and-cat', 1),\n (\"herek's\", 1),\n ('bottles', 1),\n (\"hornby's\", 1),\n ('drop-dead', 1),\n ('idoosyncratic', 1),\n ('terrain', 1),\n ('flatula', 1),\n ('advises', 1),\n ('denlopp', 1),\n ('deckhand', 1),\n ('updatings', 1),\n (\"silver's\", 1),\n ('parrot', 1),\n ('mimics', 1),\n (\"trio's\", 1),\n (\"niccol's\", 1),\n ('anti-hollywood', 1),\n (\"screenplay's\", 1),\n ('sappier', 1),\n (\"hook's\", 1),\n ('assuredness', 1),\n ('uninhibited', 1),\n ('pigeonhole-resisting', 1),\n ('antidotes', 1),\n ('11-year-old', 1),\n ('convert', 1),\n ('elmer', 1),\n (\"bernstein's\", 1),\n ('melodic', 1),\n ('10-inch', 1),\n ('edge-of-your-seat', 1),\n ('shambling', 1),\n ('custom-made', 1),\n ('hornby', 1),\n ('belated', 1),\n ('all-stars', 1),\n (\"ride's\", 1),\n ('lap', 1),\n ('gotta', 1),\n (\"carion's\", 1),\n ('hums', 1),\n ('buena', 1),\n ('oportunidad', 1),\n ('cultura', 1),\n ('aunque', 1),\n ('condensada', 1),\n ('aprovechar', 1),\n ('dyspeptic', 1),\n ('visualmente', 1),\n ('espectacular', 1),\n ('entretenida', 1),\n ('te', 1),\n ('sorprenderá', 1),\n ('theirs', 1),\n ('mirth', 1),\n ('frisky', 1),\n ('exporing', 1),\n ('chin', 1),\n ('marketplace', 1),\n ('amusingly', 1),\n (\"anymore'\", 1),\n ('shading', 1),\n ('[fessenden]', 1),\n (\"ross's\", 1),\n ('specials', 1),\n ('entrancing', 1),\n ('darn', 1),\n ('smarty-pants', 1),\n ('agreeable', 1),\n ('time-wasting', 1),\n (\"pal's\", 1),\n ('heartbeat', 1),\n ('inequities', 1),\n ('immorality', 1),\n ('administration', 1),\n ('misperception', 1),\n ('shinya', 1),\n (\"tsukamoto's\", 1),\n ('180', 1),\n ('fiascoes', 1),\n ('opera-to-film', 1),\n ('heaving', 1),\n ('love-jealousy-', 1),\n ('murder-suicide', 1),\n ('fandango', 1),\n ('abbas', 1),\n (\"'charly'\", 1),\n ('befuddlement', 1),\n ('marvellous', 1),\n ('mind-blowing', 1),\n ('breath-taking', 1),\n ('earthshaking', 1),\n ('fluctuating', 1),\n ('humanitarian', 1),\n (\"'co-stars\", 1),\n ('unlucky', 1),\n ('cassette', 1),\n ('def', 1),\n (\"leppard's\", 1),\n ('pyromania', 1),\n ('fandom', 1),\n ('combo', 1),\n ('closeness', 1),\n ('unreality', 1),\n ('broken-down', 1),\n ('andersson', 1),\n ('hoops', 1),\n ('plump', 1),\n ('fulsome', 1),\n ('reinforced', 1),\n ('all-ages', 1),\n ('quantum', 1),\n ('slash-dash', 1),\n ('potholes', 1),\n ('befall', 1),\n ('brethren', 1),\n ('turfs', 1),\n ('self-made', 1),\n ('low-down', 1),\n ('reviewing', 1),\n ('obscurities', 1),\n ('slam-bam', 1),\n ('miniscule', 1),\n ('bleep', 1),\n ('capturou', 1),\n ('pomo', 1),\n ('ouro', 1),\n ('well-oiled', 1),\n ('upholstered', 1),\n ('sickness', 1),\n ('rara', 1),\n ('avis', 1),\n ('articulated', 1),\n ('flights', 1),\n ('utmost', 1),\n ('economy', 1),\n ('samantha', 1),\n ('viewfinder', 1),\n (\"master's\", 1),\n ('sarcástica', 1),\n ('demencial', 1),\n ('predecesora', 1),\n ('ejemplo', 1),\n ('entretenimiento', 1),\n ('puro', 1),\n ('complejos', 1),\n (\"obsessive-compulsive's\", 1),\n ('cadness', 1),\n ('westfeldt', 1),\n ('juergensen', 1),\n ('israeli-occupied', 1),\n ('territories', 1),\n ('crit', 1),\n (\"'types'\", 1),\n ('elizabethan', 1),\n ('shagster', 1),\n ('casey', 1),\n ('kasem-furnished', 1),\n ('amongst', 1),\n ('self-interest', 1),\n ('representations', 1),\n ('contacts', 1),\n (\"'hosts'\", 1),\n (\"'guests\", 1),\n ('tastes', 1),\n ('foreboding', 1),\n ('jazzes', 1),\n ('madame', 1),\n ('refer', 1),\n (\"'jackie'\", 1),\n ('spates', 1),\n ('translates', 1),\n (\"hors-d'oeuvre\", 1),\n ('self-dramatizing', 1),\n ('filmic', 1),\n ('playboy', 1),\n ('quintessentially', 1),\n ('underlay', 1),\n ('gaiety', 1),\n ('[broomfield]', 1),\n ('sizzling', 1),\n ('sweet-natured', 1),\n (\"francisco's\", 1),\n ('fountainheads', 1),\n ('pawns', 1),\n ('bishops', 1),\n ('kings', 1),\n ('wagers', 1),\n ('dingy', 1),\n ('backrooms', 1),\n ('forests', 1),\n ('reject', 1),\n (\"python's\", 1),\n ('discontented', 1),\n (\"1983's\", 1),\n ('koyaanisqatsi', 1),\n (\"1988's\", 1),\n ('powaqqatsi', 1),\n ('naqoyqatsi', 1),\n ('nations', 1),\n ('inventively', 1),\n ('fleet', 1),\n ('extols', 1),\n ('comradeship', 1),\n ('retribution', 1),\n ('futures', 1),\n ('children--and', 1),\n ('policiales', 1),\n ('últimos', 1),\n ('tiempos', 1),\n ('modulated', 1),\n ('under-12', 1),\n ('caper-comedy', 1),\n ('laugh-filled', 1),\n ('kaputschnik', 1),\n ('renown', 1),\n ('dolgin', 1),\n ('vietnamese-born', 1),\n ('eagerly', 1),\n ('all-american', 1),\n ('infecting', 1),\n ('pasadena', 1),\n ('horror-comedy', 1),\n (\"elvira's\", 1),\n ('hooters', 1),\n ('binds', 1),\n ('grass', 1),\n ('2--quite', 1),\n ('south-of-the-border', 1),\n ('melrose', 1),\n ('erika', 1),\n ('mini-mod-madness', 1),\n ('kickass', 1),\n ('beau', 1),\n ('travil', 1),\n ('nenette', 1),\n ('boni', 1),\n ('perverted', 1),\n ('sex-soaked', 1),\n ('creator', 1),\n ('simplest', 1),\n (\"australia's\", 1),\n ('flaky', 1),\n ('bizarrely', 1),\n ('side-splittingly', 1),\n ('piper', 1),\n ('perabo', 1),\n ('sugar-sweet', 1),\n ('magnificence', 1),\n ('chorus', 1),\n ('damsels', 1),\n ('premier', 1),\n ('sarcastic', 1),\n ('shield', 1),\n ('middle-fingered', 1),\n ('outta', 1),\n ('am-radio', 1),\n ('tierney', 1),\n ('engulfing', 1),\n ('allying', 1),\n ('defeat', 1),\n ('resonates', 1),\n ('renoir', 1),\n ('non-actors', 1),\n ('no-budget', 1),\n ('subtleties', 1),\n (\"ramsay's\", 1),\n ('resent', 1),\n ('professes', 1),\n ('giddily', 1),\n ('francophiles', 1),\n ('snicker', 1),\n ('knowingly', 1),\n ('caution', 1),\n ('hedonist', 1),\n ('aborbing', 1),\n ('arguable', 1),\n ('hallucinations', 1),\n ('electrocute', 1),\n ('dismember', 1),\n ('avert', 1),\n ('mass-market', 1),\n ('child-centered', 1),\n ('toe-tapping', 1),\n ('long-range', 1),\n ('1955', 1),\n ('monkeyfun', 1),\n ('bounties', 1),\n ('artifacts', 1),\n (\"petersburg's\", 1),\n (\"[hawn's\", 1),\n ('character]is', 1),\n ('bluntly', 1),\n ('new/old', 1),\n ('exigencies', 1),\n ('adorned', 1),\n ('full-on', 1),\n ('pleasurably', 1),\n ('jacked-up', 1),\n ('philibert', 1),\n ('observes', 1),\n ('schoolhouse', 1),\n ('dainty', 1),\n ('psychopathy', 1),\n ('ecologically', 1),\n ('unconventionally', 1),\n ('half-wit', 1),\n ('venerable', 1),\n ('never-ending', 1),\n ('reheated', 1),\n ('weeping', 1),\n (\"more's\", 1),\n ('relaxing', 1),\n ('viewings', 1),\n ('lauren', 1),\n ('puzzlement', 1),\n ('symbolizes', 1),\n (\"alzheimer's\", 1),\n ('interacting', 1),\n ('eyeball-to-eyeball', 1),\n ('toe-to-toe', 1),\n (\"dragon'\", 1),\n ('open-endedness', 1),\n ('11th', 1),\n ('barbecue', 1),\n ('single-mindedly', 1),\n ('presuppose', 1),\n ('bigotry', 1),\n ('zealous', 1),\n ('nuttiness', 1),\n ('antagonists', 1),\n ('impartiality', 1),\n ('armenian-canadian', 1),\n ('broached', 1),\n ('nonagenarian', 1),\n ('boldness', 1),\n ('pentecostal', 1),\n ('dallas', 1),\n ('services', 1),\n ('warthog', 1),\n ('hyperbole', 1),\n ('bravely', 1),\n ('delve', 1),\n ('fictions', 1),\n ('peddled', 1),\n (\"'have-yourself-a-happy-little-holocaust'\", 1),\n ('jakob', 1),\n ('allegorical', 1),\n ('quench', 1),\n ('josef', 1),\n ('bierbichler', 1),\n ('monica', 1),\n ('bleibtreu', 1),\n ('helene', 1),\n ('weigel', 1),\n ('richest', 1),\n (\"[ricci's]\", 1),\n ('girl-woman', 1),\n ('thwart', 1),\n ('crummles', 1),\n ('[howard]', 1),\n ('crossing', 1),\n ('gut-bustingly', 1),\n ('thinnest', 1),\n ('sleepy', 1),\n ('declares', 1),\n ('yang', 1),\n ('expressed', 1),\n ('82', 1),\n ('bend', 1),\n ('glories', 1),\n ('connecting', 1),\n ('historians', 1),\n (\"'70's\", 1),\n ('viciously', 1),\n ('griping', 1),\n ('garry', 1),\n ('shandling', 1),\n ('[sade]', 1),\n ('deceitful', 1),\n ('idealistically', 1),\n ('selfless', 1),\n ('coldly', 1),\n ('self-interested', 1),\n ('unselfconscious', 1),\n ('munch', 1),\n ('invariably', 1),\n ('cockamamie', 1),\n ('precipitously', 1),\n ('catastrophe', 1),\n ('nerve-wracking', 1),\n ('screamingly', 1),\n ('[binoche', 1),\n ...]"
     },
     "metadata": {},
     "output_type": "execute_result",
     "execution_count": 7
    }
   ],
   "source": [
    "total_text = pos_text + '\\n' + neg_text\n",
    "c = Counter(total_text.split())\n",
    "sorted(c.most_common(), key=lambda x: x[1])"
   ],
   "metadata": {
    "collapsed": false,
    "pycharm": {
     "name": "#%%\n",
     "is_executing": false
    }
   }
  },
  {
   "cell_type": "code",
   "execution_count": 8,
   "outputs": [
    {
     "name": "stdout",
     "text": [
      "The total size of vocabulary is: 10384\n"
     ],
     "output_type": "stream"
    }
   ],
   "source": [
    "vocab = ['<pad>', '<unk>']\n",
    "for w, f in c.most_common():\n",
    "    if f > 1:\n",
    "        vocab.append(w)\n",
    "print(f'The total size of vocabulary is: {len(vocab)}')"
   ],
   "metadata": {
    "collapsed": false,
    "pycharm": {
     "name": "#%%\n",
     "is_executing": false
    }
   }
  },
  {
   "cell_type": "code",
   "execution_count": 9,
   "outputs": [],
   "source": [
    "word_to_token = {word: token for token, word in enumerate(vocab)}\n",
    "token_to_word = {token: word for token, word in enumerate(vocab)}"
   ],
   "metadata": {
    "collapsed": false,
    "pycharm": {
     "name": "#%%\n",
     "is_executing": false
    }
   }
  },
  {
   "cell_type": "code",
   "execution_count": 10,
   "outputs": [],
   "source": [
    "def convert_text_to_token(sentence, \n",
    "                          word_to_token_map=word_to_token,\n",
    "                          limit_size=SENTENCE_LIMIT_SIZE):\n",
    "    unk_id = word_to_token_map['<unk>']\n",
    "    \n",
    "    tokens = [word_to_token_map.get(word, unk_id) \n",
    "              for word in sentence.lower().split()]\n",
    "    \n",
    "    if len(tokens) < limit_size:\n",
    "        tokens.extend([0] * (limit_size - len(tokens)))\n",
    "    else:\n",
    "        tokens = tokens[:limit_size]\n",
    "    \n",
    "    return tokens"
   ],
   "metadata": {
    "collapsed": false,
    "pycharm": {
     "name": "#%%\n",
     "is_executing": false
    }
   }
  },
  {
   "cell_type": "code",
   "execution_count": 11,
   "outputs": [
    {
     "name": "stderr",
     "text": [
      "\r  0%|          | 0/5331 [00:00<?, ?it/s]",
      "\r100%|██████████| 5331/5331 [00:00<00:00, 205015.72it/s]",
      "\n"
     ],
     "output_type": "stream"
    }
   ],
   "source": [
    "pos_tokens = []\n",
    "\n",
    "for sentence in tqdm.tqdm(pos_sentences):\n",
    "    tokens = convert_text_to_token(sentence)\n",
    "    pos_tokens.append(tokens)"
   ],
   "metadata": {
    "collapsed": false,
    "pycharm": {
     "name": "#%%\n",
     "is_executing": false
    }
   }
  },
  {
   "cell_type": "code",
   "execution_count": 13,
   "outputs": [
    {
     "name": "stderr",
     "text": [
      "\r  0%|          | 0/5331 [00:00<?, ?it/s]",
      "\r100%|██████████| 5331/5331 [00:00<00:00, 184424.70it/s]",
      "\n"
     ],
     "output_type": "stream"
    }
   ],
   "source": [
    "neg_tokens = []\n",
    "\n",
    "for sentence in tqdm.tqdm(neg_sentences):\n",
    "    tokens = convert_text_to_token(sentence)\n",
    "    neg_tokens.append(tokens)"
   ],
   "metadata": {
    "collapsed": false,
    "pycharm": {
     "name": "#%%\n",
     "is_executing": false
    }
   }
  },
  {
   "cell_type": "code",
   "execution_count": 14,
   "outputs": [],
   "source": [
    "pos_tokens = np.array(pos_tokens)\n",
    "neg_tokens = np.array(neg_tokens)"
   ],
   "metadata": {
    "collapsed": false,
    "pycharm": {
     "name": "#%%\n",
     "is_executing": false
    }
   }
  },
  {
   "cell_type": "code",
   "execution_count": 15,
   "outputs": [],
   "source": [
    "total_tokens = np.concatenate((pos_tokens, neg_tokens), axis=0)"
   ],
   "metadata": {
    "collapsed": false,
    "pycharm": {
     "name": "#%%\n",
     "is_executing": false
    }
   }
  },
  {
   "cell_type": "code",
   "execution_count": 16,
   "outputs": [
    {
     "name": "stdout",
     "text": [
      "The shape of all tokens in our corpus: (10662, 20)\n"
     ],
     "output_type": "stream"
    }
   ],
   "source": [
    "print(f'The shape of all tokens in our corpus: {total_tokens.shape}')"
   ],
   "metadata": {
    "collapsed": false,
    "pycharm": {
     "name": "#%%\n",
     "is_executing": false
    }
   }
  },
  {
   "cell_type": "code",
   "execution_count": 17,
   "outputs": [],
   "source": [
    "pos_targets = np.ones((pos_tokens.shape[0]))\n",
    "neg_targets = np.zeros((neg_tokens.shape[0]))"
   ],
   "metadata": {
    "collapsed": false,
    "pycharm": {
     "name": "#%%\n",
     "is_executing": false
    }
   }
  },
  {
   "cell_type": "code",
   "execution_count": 18,
   "outputs": [],
   "source": [
    "total_targets = np.concatenate((pos_targets, neg_targets), axis=0).reshape(-1, 1)"
   ],
   "metadata": {
    "collapsed": false,
    "pycharm": {
     "name": "#%%\n",
     "is_executing": false
    }
   }
  },
  {
   "cell_type": "code",
   "execution_count": 19,
   "outputs": [
    {
     "name": "stdout",
     "text": [
      "The shape of all targets in our corpus: (10662, 1)\n"
     ],
     "output_type": "stream"
    }
   ],
   "source": [
    "print(f'The shape of all targets in our corpus: {total_targets.shape}')"
   ],
   "metadata": {
    "collapsed": false,
    "pycharm": {
     "name": "#%%\n",
     "is_executing": false
    }
   }
  },
  {
   "cell_type": "code",
   "execution_count": 20,
   "outputs": [],
   "source": [
    "with codecs.open('../data/glove.6B.300d.txt', 'r') as f:\n",
    "    words = set()\n",
    "    word_to_vec = {}\n",
    "    lines = f.readlines()\n",
    "    for line in lines:\n",
    "        line = line.strip().split()\n",
    "        curr_word = line[0]\n",
    "        words.add(curr_word)\n",
    "        \n",
    "        word_to_vec[curr_word] = np.array(line[1:], dtype=np.float32)"
   ],
   "metadata": {
    "collapsed": false,
    "pycharm": {
     "name": "#%%\n",
     "is_executing": false
    }
   }
  },
  {
   "cell_type": "code",
   "execution_count": 21,
   "outputs": [
    {
     "name": "stdout",
     "text": [
      "The number of words which have pretrained-vectors in vocab is: 9801\nThe number of words which don`t have pretrained-vectors in vocab is: 583\n"
     ],
     "output_type": "stream"
    }
   ],
   "source": [
    "print(f'The number of words which have '\n",
    "      f'pretrained-vectors in vocab is: '\n",
    "      f'{len(set(vocab)&set(words))}')\n",
    "\n",
    "print(f'The number of words which don`t '\n",
    "      f'have pretrained-vectors in vocab is: '\n",
    "      f'{len(set(vocab)) - len(set(vocab)&set(words))}')"
   ],
   "metadata": {
    "collapsed": false,
    "pycharm": {
     "name": "#%%\n",
     "is_executing": false
    }
   }
  },
  {
   "cell_type": "code",
   "execution_count": 22,
   "outputs": [],
   "source": [
    "VOCAB_SIZE = len(vocab) # 10384\n",
    "EMBEDDING_SIZE = 300"
   ],
   "metadata": {
    "collapsed": false,
    "pycharm": {
     "name": "#%%\n",
     "is_executing": false
    }
   }
  },
  {
   "cell_type": "code",
   "execution_count": 23,
   "outputs": [
    {
     "name": "stderr",
     "text": [
      "\r  0%|          | 0/10384 [00:00<?, ?it/s]",
      "\r100%|██████████| 10384/10384 [00:00<00:00, 127484.43it/s]",
      "\n"
     ],
     "output_type": "stream"
    }
   ],
   "source": [
    "static_embeddings = np.zeros([VOCAB_SIZE, EMBEDDING_SIZE])\n",
    "\n",
    "for word, token in tqdm.tqdm(word_to_token.items()):\n",
    "    word_vector = word_to_vec.get(word, \n",
    "                                  0.2 * np.random.random(EMBEDDING_SIZE)-0.1)\n",
    "    static_embeddings[token, :] = word_vector\n",
    "    \n",
    "pad_id = word_to_token['<pad>']\n",
    "static_embeddings[pad_id, :] = np.zeros(EMBEDDING_SIZE)"
   ],
   "metadata": {
    "collapsed": false,
    "pycharm": {
     "name": "#%%\n",
     "is_executing": false
    }
   }
  },
  {
   "cell_type": "code",
   "execution_count": 24,
   "outputs": [],
   "source": [
    "static_embeddings = static_embeddings.astype(np.float32)"
   ],
   "metadata": {
    "collapsed": false,
    "pycharm": {
     "name": "#%%\n",
     "is_executing": false
    }
   }
  },
  {
   "cell_type": "code",
   "execution_count": 25,
   "outputs": [],
   "source": [
    "from sklearn.model_selection import train_test_split\n",
    "\n",
    "x_train, x_test, y_train, y_test = train_test_split(total_tokens,\n",
    "                                                    total_targets,\n",
    "                                                    test_size=0.2,\n",
    "                                                    random_state=42)"
   ],
   "metadata": {
    "collapsed": false,
    "pycharm": {
     "name": "#%%\n",
     "is_executing": false
    }
   }
  },
  {
   "cell_type": "code",
   "execution_count": 26,
   "outputs": [],
   "source": [
    "HIDDEN_SIZE = 512\n",
    "LEARNING_RATE = 0.001\n",
    "EPOCHES = 50\n",
    "BATCH_SIZE = 256\n",
    "\n",
    "def get_batch(x, y, batch_size=BATCH_SIZE, shuffle=True):\n",
    "    assert x.shape[0] == y.shape[0], print('error shape!')\n",
    "    \n",
    "    if shuffle:\n",
    "        shuffle_index = np.random.permutation(range(x.shape[0]))\n",
    "        \n",
    "        x = x[shuffle_index]\n",
    "        y = y[shuffle_index]\n",
    "    \n",
    "    n_batches = int(x.shape[0] / batch_size)\n",
    "    for i in range(n_batches-1):\n",
    "        x_batch = x[i*batch_size: (i+1)*batch_size]\n",
    "        y_batch = y[i*batch_size: (i+1)*batch_size]\n",
    "        \n",
    "        yield x_batch, y_batch"
   ],
   "metadata": {
    "collapsed": false,
    "pycharm": {
     "name": "#%%\n",
     "is_executing": false
    }
   }
  },
  {
   "cell_type": "code",
   "execution_count": 27,
   "outputs": [],
   "source": [
    "tf.reset_default_graph()"
   ],
   "metadata": {
    "collapsed": false,
    "pycharm": {
     "name": "#%%\n",
     "is_executing": false
    }
   }
  },
  {
   "cell_type": "code",
   "execution_count": 28,
   "outputs": [],
   "source": [
    "with tf.name_scope('dnn'):\n",
    "    with tf.name_scope('placeholders'):\n",
    "        inputs = tf.placeholder(dtype=tf.int32, shape=(None, SENTENCE_LIMIT_SIZE), name='inputs')\n",
    "        targets = tf.placeholder(dtype=tf.float32, shape=(None, 1), name='targets')\n",
    "    with tf.name_scope('embeddings'):\n",
    "        embedding_matrix = tf.Variable(initial_value=static_embeddings, trainable=False,\n",
    "                                       name='embedding_matrix')\n",
    "        embed = tf.nn.embedding_lookup(embedding_matrix, inputs, name='embed')\n",
    "        sum_embed = tf.reduce_sum(embed, axis=1, name='sum_embed')\n",
    "        \n",
    "    with tf.name_scope('model'):\n",
    "        W1 = tf.Variable(tf.random_normal(shape=(EMBEDDING_SIZE, HIDDEN_SIZE),\n",
    "                                          stddev=0.1),\n",
    "                         name='W1')\n",
    "        b1 = tf.Variable(tf.zeros(shape=(HIDDEN_SIZE), name='b1'))\n",
    "        \n",
    "        W2 = tf.Variable(tf.random_normal(shape=(HIDDEN_SIZE, 1), stddev=0.1), name='W2')\n",
    "        b2 = tf.Variable(tf.zeros(shape=(1), name='b2'))\n",
    "        \n",
    "        z1 = tf.add(tf.matmul(sum_embed, W1), b1)\n",
    "        a1 = tf.nn.relu(z1)\n",
    "        \n",
    "        logits = tf.add(tf.matmul(a1, W2), b2)\n",
    "        outputs = tf.nn.sigmoid(logits, name='outputs')\n",
    "        \n",
    "    with tf.name_scope('loss'):\n",
    "        loss = tf.reduce_mean(tf.nn.sigmoid_cross_entropy_with_logits(labels=targets, logits=logits))\n",
    "    \n",
    "    with tf.name_scope('optimizer'):\n",
    "        optimizer = tf.train.AdamOptimizer(LEARNING_RATE).minimize(loss)\n",
    "    \n",
    "    with tf.name_scope('evaluation'):\n",
    "        correct_preds = tf.equal(tf.cast(tf.greater(outputs, 0.5), tf.float32), targets)\n",
    "        accuracy = tf.reduce_sum(tf.reduce_sum(tf.cast(correct_preds, tf.float32), axis=1))"
   ],
   "metadata": {
    "collapsed": false,
    "pycharm": {
     "name": "#%%\n",
     "is_executing": false
    }
   }
  },
  {
   "cell_type": "code",
   "execution_count": 33,
   "outputs": [],
   "source": [
    "dnn_train_accuracy = []\n",
    "dnn_test_accuracy = []\n",
    "saver = tf.train.Saver()"
   ],
   "metadata": {
    "collapsed": false,
    "pycharm": {
     "name": "#%%\n",
     "is_executing": false
    }
   }
  },
  {
   "cell_type": "code",
   "execution_count": 34,
   "outputs": [
    {
     "name": "stdout",
     "text": [
      "Epoch: 1, Train loss: 1.0877, Train accuracy: 69.0820%, Test accuracy: 66.8073%\nEpoch: 2, Train loss: 0.6078, Train accuracy: 72.8456%, Test accuracy: 70.3704%\nEpoch: 3, Train loss: 0.5351, Train accuracy: 75.3781%, Test accuracy: 70.1360%\nEpoch: 4, Train loss: 0.5181, Train accuracy: 75.9526%, Test accuracy: 69.9484%\nEpoch: 5, Train loss: 0.4780, Train accuracy: 78.5672%, Test accuracy: 69.6203%\nEpoch: 6, Train loss: 0.4430, Train accuracy: 79.7749%, Test accuracy: 70.8861%\n",
      "Epoch: 7, Train loss: 0.4198, Train accuracy: 81.6977%, Test accuracy: 71.8706%\nEpoch: 8, Train loss: 0.4143, Train accuracy: 81.8736%, Test accuracy: 71.2611%\nEpoch: 9, Train loss: 0.3793, Train accuracy: 84.9924%, Test accuracy: 71.3549%\nEpoch: 10, Train loss: 0.3647, Train accuracy: 85.3089%, Test accuracy: 71.4487%\nEpoch: 11, Train loss: 0.3335, Train accuracy: 87.9236%, Test accuracy: 70.8392%\nEpoch: 12, Train loss: 0.3044, Train accuracy: 89.3657%, Test accuracy: 71.5424%\nEpoch: 13, Train loss: 0.2841, Train accuracy: 90.0106%, Test accuracy: 71.3080%\n",
      "Epoch: 14, Train loss: 0.2735, Train accuracy: 88.3339%, Test accuracy: 70.8861%\nEpoch: 15, Train loss: 0.2608, Train accuracy: 88.1698%, Test accuracy: 69.4327%\nEpoch: 16, Train loss: 0.2261, Train accuracy: 94.2549%, Test accuracy: 71.7300%\nEpoch: 17, Train loss: 0.2042, Train accuracy: 94.2314%, Test accuracy: 70.2297%\nEpoch: 18, Train loss: 0.1853, Train accuracy: 95.8260%, Test accuracy: 71.3549%\nEpoch: 19, Train loss: 0.1761, Train accuracy: 95.8260%, Test accuracy: 70.6048%\nEpoch: 20, Train loss: 0.1718, Train accuracy: 95.3687%, Test accuracy: 70.5579%\n",
      "Epoch: 21, Train loss: 0.1700, Train accuracy: 97.1040%, Test accuracy: 71.4955%\nEpoch: 22, Train loss: 0.1346, Train accuracy: 97.7489%, Test accuracy: 69.8547%\nEpoch: 23, Train loss: 0.1183, Train accuracy: 96.2715%, Test accuracy: 70.4641%\nEpoch: 24, Train loss: 0.1167, Train accuracy: 98.4641%, Test accuracy: 70.8392%\nEpoch: 25, Train loss: 0.0974, Train accuracy: 99.0620%, Test accuracy: 71.1674%\nEpoch: 26, Train loss: 0.0874, Train accuracy: 99.2144%, Test accuracy: 70.4173%\nEpoch: 27, Train loss: 0.0829, Train accuracy: 97.9130%, Test accuracy: 70.3235%\n",
      "Epoch: 28, Train loss: 0.0871, Train accuracy: 99.4724%, Test accuracy: 69.8547%\nEpoch: 29, Train loss: 0.0684, Train accuracy: 99.4724%, Test accuracy: 70.6048%\nEpoch: 30, Train loss: 0.0640, Train accuracy: 99.3786%, Test accuracy: 70.6048%\nEpoch: 31, Train loss: 0.0577, Train accuracy: 99.8241%, Test accuracy: 70.2297%\nEpoch: 32, Train loss: 0.0513, Train accuracy: 99.8359%, Test accuracy: 70.3704%\nEpoch: 33, Train loss: 0.0518, Train accuracy: 99.8593%, Test accuracy: 70.3704%\nEpoch: 34, Train loss: 0.0446, Train accuracy: 99.8710%, Test accuracy: 69.6671%\n",
      "Epoch: 35, Train loss: 0.0376, Train accuracy: 99.9297%, Test accuracy: 70.0422%\nEpoch: 36, Train loss: 0.0343, Train accuracy: 99.9414%, Test accuracy: 69.7609%\nEpoch: 37, Train loss: 0.0318, Train accuracy: 99.9531%, Test accuracy: 70.3704%\nEpoch: 38, Train loss: 0.0289, Train accuracy: 99.9648%, Test accuracy: 70.5110%\nEpoch: 39, Train loss: 0.0274, Train accuracy: 99.9766%, Test accuracy: 69.9953%\nEpoch: 40, Train loss: 0.0243, Train accuracy: 99.9648%, Test accuracy: 70.1828%\nEpoch: 41, Train loss: 0.0251, Train accuracy: 100.0000%, Test accuracy: 70.3704%\n",
      "Epoch: 42, Train loss: 0.0237, Train accuracy: 99.9883%, Test accuracy: 70.2766%\nEpoch: 43, Train loss: 0.0200, Train accuracy: 100.0000%, Test accuracy: 70.3235%\nEpoch: 44, Train loss: 0.0183, Train accuracy: 100.0000%, Test accuracy: 69.6203%\nEpoch: 45, Train loss: 0.0172, Train accuracy: 100.0000%, Test accuracy: 70.4173%\nEpoch: 46, Train loss: 0.0156, Train accuracy: 100.0000%, Test accuracy: 70.3704%\nEpoch: 47, Train loss: 0.0147, Train accuracy: 100.0000%, Test accuracy: 70.2766%\nEpoch: 48, Train loss: 0.0139, Train accuracy: 100.0000%, Test accuracy: 69.8078%\n",
      "Epoch: 49, Train loss: 0.0131, Train accuracy: 100.0000%, Test accuracy: 70.1828%\nEpoch: 50, Train loss: 0.0124, Train accuracy: 100.0000%, Test accuracy: 70.6985%\ntraining time: 2.0100s\n"
     ],
     "output_type": "stream"
    }
   ],
   "source": [
    "import time\n",
    "\n",
    "start = time.time()\n",
    "with tf.Session() as sess:\n",
    "    sess.run(tf.global_variables_initializer())\n",
    "    \n",
    "    writer = tf.summary.FileWriter('../graphs/dnn', tf.get_default_graph())\n",
    "    \n",
    "    n_batches = int(x_train.shape[0] / BATCH_SIZE)\n",
    "    \n",
    "    for epoch in range(EPOCHES):\n",
    "        total_loss = 0\n",
    "        \n",
    "        for x_batch, y_batch in get_batch(x_train, y_train):\n",
    "            _, batch_loss = sess.run([optimizer, loss], \n",
    "                                     feed_dict={inputs: x_batch, targets: y_batch})\n",
    "            \n",
    "            total_loss += batch_loss\n",
    "        \n",
    "        train_corrects = sess.run(accuracy, feed_dict={inputs: x_train, targets: y_train})\n",
    "        train_acc = train_corrects / x_train.shape[0]\n",
    "        dnn_train_accuracy.append(train_acc)\n",
    "        \n",
    "        test_corrects = sess.run(accuracy, feed_dict={inputs: x_test, targets: y_test})\n",
    "        test_acc = test_corrects / x_test.shape[0]\n",
    "        dnn_test_accuracy.append(test_acc)\n",
    "        \n",
    "        print(f'Epoch: {epoch+1}, Train loss: {total_loss/n_batches:.4f}, '\n",
    "              f'Train accuracy: {train_acc:.4%}, Test accuracy: {test_acc:.4%}')\n",
    "    \n",
    "    saver.save(sess, '../checkpoints/dnn')\n",
    "    writer.close()\n",
    "end = time.time()\n",
    "print(f'training time: {(end-start):.4f}s')"
   ],
   "metadata": {
    "collapsed": false,
    "pycharm": {
     "name": "#%%\n",
     "is_executing": false
    }
   }
  },
  {
   "cell_type": "code",
   "execution_count": 35,
   "outputs": [
    {
     "data": {
      "text/plain": "<matplotlib.legend.Legend at 0x7f12667a8da0>"
     },
     "metadata": {},
     "output_type": "execute_result",
     "execution_count": 35
    },
    {
     "data": {
      "text/plain": "<Figure size 432x288 with 1 Axes>",
      "image/png": "[encoded data removed]"
     },
     "metadata": {
      "needs_background": "light"
     },
     "output_type": "display_data"
    }
   ],
   "source": [
    "plt.plot(dnn_train_accuracy)\n",
    "plt.plot(dnn_test_accuracy)\n",
    "plt.ylim(ymin=0.5, ymax=1.01)\n",
    "plt.title('The accuracy of DNN model')\n",
    "plt.legend(['train', 'test'])"
   ],
   "metadata": {
    "collapsed": false,
    "pycharm": {
     "name": "#%%\n",
     "is_executing": false
    }
   }
  },
  {
   "cell_type": "code",
   "execution_count": 36,
   "outputs": [
    {
     "name": "stdout",
     "text": [
      "INFO:tensorflow:Restoring parameters from ../checkpoints/dnn\n",
      "The DNN model accuracy on test set: 70.6985%\n"
     ],
     "output_type": "stream"
    }
   ],
   "source": [
    "with tf.Session() as sess:\n",
    "    saver.restore(sess, '../checkpoints/dnn')\n",
    "    \n",
    "    total_correct = 0\n",
    "    acc = sess.run(accuracy, feed_dict={inputs: x_test,\n",
    "                                        targets: y_test})\n",
    "    total_correct += acc\n",
    "    print(f'The DNN model accuracy on test set: {total_correct/x_test.shape[0]:.4%}')"
   ],
   "metadata": {
    "collapsed": false,
    "pycharm": {
     "name": "#%%\n",
     "is_executing": false
    }
   }
  },
  {
   "cell_type": "code",
   "execution_count": 37,
   "outputs": [],
   "source": [
    "tf.reset_default_graph()"
   ],
   "metadata": {
    "collapsed": false,
    "pycharm": {
     "name": "#%%\n",
     "is_executing": false
    }
   }
  },
  {
   "cell_type": "code",
   "execution_count": 38,
   "outputs": [],
   "source": [
    "KEEP_PROB = 0.5"
   ],
   "metadata": {
    "collapsed": false,
    "pycharm": {
     "name": "#%%\n",
     "is_executing": false
    }
   }
  },
  {
   "cell_type": "code",
   "execution_count": 39,
   "outputs": [],
   "source": [
    "with tf.name_scope('rnn'):\n",
    "    with tf.name_scope('placeholders'):\n",
    "        inputs = tf.placeholder(dtype=tf.int32, shape=(None, SENTENCE_LIMIT_SIZE), name='inputs')\n",
    "        targets = tf.placeholder(dtype=tf.float32, shape=(None, 1), name='targets')\n",
    "    with tf.name_scope('embeddings'):\n",
    "        embedding_matrix = tf.Variable(initial_value=static_embeddings, trainable=False,\n",
    "                                       name='embedding_matrix')\n",
    "        embed = tf.nn.embedding_lookup(embedding_matrix, inputs, name='embed')\n",
    "        \n",
    "    with tf.name_scope('model'):\n",
    "        lstm = tf.nn.rnn_cell.LSTMCell(HIDDEN_SIZE, \n",
    "                                       initializer=tf.random_uniform_initializer(-0.1, \n",
    "                                                                                 0.1, \n",
    "                                                                                 seed=123))\n",
    "        drop_lstm = tf.nn.rnn_cell.DropoutWrapper(lstm, output_keep_prob=KEEP_PROB)\n",
    "        _, lstm_state = tf.nn.dynamic_rnn(drop_lstm, embed, dtype=tf.float32)\n",
    "        \n",
    "        W = tf.Variable(tf.truncated_normal(shape=(HIDDEN_SIZE, 1), mean=0.0, stddev=0.1), name='W')\n",
    "        b = tf.Variable(tf.zeros(shape=(1)), name='b')\n",
    "        \n",
    "        logits = tf.add(tf.matmul(lstm_state.h, W), b)\n",
    "        outputs = tf.nn.sigmoid(logits, name='outputs')\n",
    "        \n",
    "    with tf.name_scope('loss'):\n",
    "        loss = tf.reduce_mean(tf.nn.sigmoid_cross_entropy_with_logits(labels=targets, logits=logits))\n",
    "    \n",
    "    with tf.name_scope('optimizer'):\n",
    "        optimizer = tf.train.AdamOptimizer(LEARNING_RATE).minimize(loss)\n",
    "    \n",
    "    with tf.name_scope('evaluation'):\n",
    "        correct_preds = tf.equal(tf.cast(tf.greater(outputs, 0.5), tf.float32), targets)\n",
    "        accuracy = tf.reduce_sum(tf.reduce_sum(tf.cast(correct_preds, tf.float32), axis=1))"
   ],
   "metadata": {
    "collapsed": false,
    "pycharm": {
     "name": "#%%\n",
     "is_executing": false
    }
   }
  },
  {
   "cell_type": "code",
   "execution_count": 40,
   "outputs": [],
   "source": [
    "rnn_train_accuracy = []\n",
    "rnn_test_accuracy = []\n",
    "saver = tf.train.Saver()"
   ],
   "metadata": {
    "collapsed": false,
    "pycharm": {
     "name": "#%%\n",
     "is_executing": false
    }
   }
  },
  {
   "cell_type": "code",
   "execution_count": 41,
   "outputs": [
    {
     "name": "stdout",
     "text": [
      "Epoch: 1, Train loss: 0.6448, Train accuracy: 72.5876%, Test accuracy: 69.8547%\n",
      "Epoch: 2, Train loss: 0.5015, Train accuracy: 75.9995%, Test accuracy: 73.0895%\n",
      "Epoch: 3, Train loss: 0.4600, Train accuracy: 77.8989%, Test accuracy: 72.1519%\n",
      "Epoch: 4, Train loss: 0.4166, Train accuracy: 83.5033%, Test accuracy: 74.1678%\n",
      "Epoch: 5, Train loss: 0.3694, Train accuracy: 86.4462%, Test accuracy: 73.8865%\n",
      "Epoch: 6, Train loss: 0.3339, Train accuracy: 88.0643%, Test accuracy: 72.6207%\n",
      "Epoch: 7, Train loss: 0.2678, Train accuracy: 93.0238%, Test accuracy: 73.6521%\n",
      "Epoch: 8, Train loss: 0.1963, Train accuracy: 94.2783%, Test accuracy: 72.8551%\n",
      "Epoch: 9, Train loss: 0.1654, Train accuracy: 93.3638%, Test accuracy: 70.8861%\n",
      "Epoch: 10, Train loss: 0.1202, Train accuracy: 97.9482%, Test accuracy: 73.5115%\n",
      "Epoch: 11, Train loss: 0.0728, Train accuracy: 98.3703%, Test accuracy: 72.2925%\n",
      "Epoch: 12, Train loss: 0.0605, Train accuracy: 99.0034%, Test accuracy: 72.4332%\n",
      "Epoch: 13, Train loss: 0.0648, Train accuracy: 98.3468%, Test accuracy: 70.4641%\n",
      "Epoch: 14, Train loss: 0.0481, Train accuracy: 99.3786%, Test accuracy: 72.0113%\n",
      "Epoch: 15, Train loss: 0.0271, Train accuracy: 99.5193%, Test accuracy: 71.3080%\n",
      "Epoch: 16, Train loss: 0.0377, Train accuracy: 99.2144%, Test accuracy: 72.3394%\n",
      "Epoch: 17, Train loss: 0.0410, Train accuracy: 99.1910%, Test accuracy: 71.2611%\n",
      "Epoch: 18, Train loss: 0.0249, Train accuracy: 99.8476%, Test accuracy: 71.7300%\n",
      "Epoch: 19, Train loss: 0.0117, Train accuracy: 99.9414%, Test accuracy: 72.9958%\n",
      "Epoch: 20, Train loss: 0.0083, Train accuracy: 99.9297%, Test accuracy: 70.8861%\n",
      "Epoch: 21, Train loss: 0.0068, Train accuracy: 99.8828%, Test accuracy: 71.4955%\n",
      "Epoch: 22, Train loss: 0.0122, Train accuracy: 99.7421%, Test accuracy: 70.6985%\n",
      "Epoch: 23, Train loss: 0.0132, Train accuracy: 99.7303%, Test accuracy: 71.4955%\n",
      "Epoch: 24, Train loss: 0.0097, Train accuracy: 99.8359%, Test accuracy: 73.1364%\n",
      "Epoch: 25, Train loss: 0.0121, Train accuracy: 98.6517%, Test accuracy: 70.0422%\n",
      "Epoch: 26, Train loss: 0.0533, Train accuracy: 99.2613%, Test accuracy: 73.1833%\n",
      "Epoch: 27, Train loss: 0.0180, Train accuracy: 99.8710%, Test accuracy: 74.4491%\n",
      "Epoch: 28, Train loss: 0.0171, Train accuracy: 99.5427%, Test accuracy: 71.6362%\n",
      "Epoch: 29, Train loss: 0.0209, Train accuracy: 99.5076%, Test accuracy: 71.5424%\n",
      "Epoch: 30, Train loss: 0.0129, Train accuracy: 99.9297%, Test accuracy: 72.9020%\n",
      "Epoch: 31, Train loss: 0.0050, Train accuracy: 100.0000%, Test accuracy: 73.7928%\n",
      "Epoch: 32, Train loss: 0.0069, Train accuracy: 99.8124%, Test accuracy: 72.5270%\n",
      "Epoch: 33, Train loss: 0.0131, Train accuracy: 99.8124%, Test accuracy: 72.1988%\n",
      "Epoch: 34, Train loss: 0.0113, Train accuracy: 99.8359%, Test accuracy: 73.4177%\n",
      "Epoch: 35, Train loss: 0.0093, Train accuracy: 99.5779%, Test accuracy: 72.4332%\n",
      "Epoch: 36, Train loss: 0.0142, Train accuracy: 99.7069%, Test accuracy: 72.3863%\n",
      "Epoch: 37, Train loss: 0.0144, Train accuracy: 99.5779%, Test accuracy: 72.8551%\n",
      "Epoch: 38, Train loss: 0.0158, Train accuracy: 99.4489%, Test accuracy: 71.3080%\n",
      "Epoch: 39, Train loss: 0.0177, Train accuracy: 99.5779%, Test accuracy: 72.9958%\n",
      "Epoch: 40, Train loss: 0.0140, Train accuracy: 99.7772%, Test accuracy: 72.6207%\n",
      "Epoch: 41, Train loss: 0.0084, Train accuracy: 99.9648%, Test accuracy: 71.8706%\n",
      "Epoch: 42, Train loss: 0.0052, Train accuracy: 99.9179%, Test accuracy: 72.0113%\n",
      "Epoch: 43, Train loss: 0.0103, Train accuracy: 99.9414%, Test accuracy: 73.5584%\n",
      "Epoch: 44, Train loss: 0.0069, Train accuracy: 99.9297%, Test accuracy: 72.7145%\n",
      "Epoch: 45, Train loss: 0.0056, Train accuracy: 99.8124%, Test accuracy: 72.1519%\n",
      "Epoch: 46, Train loss: 0.0026, Train accuracy: 99.9766%, Test accuracy: 72.4801%\n",
      "Epoch: 47, Train loss: 0.0007, Train accuracy: 100.0000%, Test accuracy: 72.8551%\n",
      "Epoch: 48, Train loss: 0.0003, Train accuracy: 100.0000%, Test accuracy: 72.2925%\n",
      "Epoch: 49, Train loss: 0.0001, Train accuracy: 100.0000%, Test accuracy: 72.3863%\n",
      "Epoch: 50, Train loss: 0.0001, Train accuracy: 100.0000%, Test accuracy: 72.5738%\n",
      "training time: 42.0208s\n"
     ],
     "output_type": "stream"
    }
   ],
   "source": [
    "start = time.time()\n",
    "with tf.Session() as sess:\n",
    "    sess.run(tf.global_variables_initializer())\n",
    "    \n",
    "    writer = tf.summary.FileWriter('../graphs/rnn', tf.get_default_graph())\n",
    "    \n",
    "    n_batches = int(x_train.shape[0] / BATCH_SIZE)\n",
    "    \n",
    "    for epoch in range(EPOCHES):\n",
    "        total_loss = 0\n",
    "        \n",
    "        for x_batch, y_batch in get_batch(x_train, y_train):\n",
    "            _, batch_loss = sess.run([optimizer, loss], \n",
    "                                     feed_dict={inputs: x_batch, targets: y_batch})\n",
    "            \n",
    "            total_loss += batch_loss\n",
    "        \n",
    "        train_corrects = sess.run(accuracy, feed_dict={inputs: x_train, targets: y_train})\n",
    "        train_acc = train_corrects / x_train.shape[0]\n",
    "        rnn_train_accuracy.append(train_acc)\n",
    "        \n",
    "        test_corrects = sess.run(accuracy, feed_dict={inputs: x_test, targets: y_test})\n",
    "        test_acc = test_corrects / x_test.shape[0]\n",
    "        rnn_test_accuracy.append(test_acc)\n",
    "        \n",
    "        print(f'Epoch: {epoch+1}, Train loss: {total_loss/n_batches:.4f}, '\n",
    "              f'Train accuracy: {train_acc:.4%}, Test accuracy: {test_acc:.4%}')\n",
    "    \n",
    "    saver.save(sess, '../checkpoints/rnn')\n",
    "    writer.close()\n",
    "end = time.time()\n",
    "print(f'training time: {(end-start):.4f}s')"
   ],
   "metadata": {
    "collapsed": false,
    "pycharm": {
     "name": "#%%\n",
     "is_executing": false
    }
   }
  },
  {
   "cell_type": "code",
   "execution_count": 42,
   "outputs": [
    {
     "data": {
      "text/plain": "<matplotlib.legend.Legend at 0x7f124459bd30>"
     },
     "metadata": {},
     "output_type": "execute_result",
     "execution_count": 42
    },
    {
     "data": {
      "text/plain": "<Figure size 432x288 with 1 Axes>",
      "image/png": "[encoded data removed]"
     },
     "metadata": {
      "needs_background": "light"
     },
     "output_type": "display_data"
    }
   ],
   "source": [
    "plt.plot(rnn_train_accuracy)\n",
    "plt.plot(rnn_test_accuracy)\n",
    "plt.ylim(ymin=0.5, ymax=1.01)\n",
    "plt.title('The accuracy of RNN model')\n",
    "plt.legend(['train', 'test'])"
   ],
   "metadata": {
    "collapsed": false,
    "pycharm": {
     "name": "#%%\n",
     "is_executing": false
    }
   }
  },
  {
   "cell_type": "code",
   "execution_count": 43,
   "outputs": [
    {
     "name": "stdout",
     "text": [
      "INFO:tensorflow:Restoring parameters from ../checkpoints/rnn\n",
      "The RNN model accuracy on test set: 72.5738%\n"
     ],
     "output_type": "stream"
    }
   ],
   "source": [
    "with tf.Session() as sess:\n",
    "    saver.restore(sess, '../checkpoints/rnn')\n",
    "    \n",
    "    total_correct = 0\n",
    "    acc = sess.run(accuracy, feed_dict={inputs: x_test,\n",
    "                                        targets: y_test})\n",
    "    total_correct += acc\n",
    "    print(f'The RNN model accuracy on test set: {total_correct/x_test.shape[0]:.4%}')"
   ],
   "metadata": {
    "collapsed": false,
    "pycharm": {
     "name": "#%%\n",
     "is_executing": false
    }
   }
  },
  {
   "cell_type": "code",
   "execution_count": 60,
   "outputs": [],
   "source": [
    "tf.reset_default_graph()"
   ],
   "metadata": {
    "collapsed": false,
    "pycharm": {
     "name": "#%%\n",
     "is_executing": false
    }
   }
  },
  {
   "cell_type": "code",
   "execution_count": 61,
   "outputs": [],
   "source": [
    "filters_size = [2, 3, 4, 5, 6]\n",
    "num_filters = 100\n",
    "# 超参数\n",
    "BATCH_SIZE = 256\n",
    "EPOCHES = 100\n",
    "LEARNING_RATE = 0.001\n",
    "L2_LAMBDA = 10\n",
    "KEEP_PROB = 0.8"
   ],
   "metadata": {
    "collapsed": false,
    "pycharm": {
     "name": "#%%\n",
     "is_executing": false
    }
   }
  },
  {
   "cell_type": "code",
   "execution_count": 62,
   "outputs": [],
   "source": [
    "with tf.name_scope('cnn'):\n",
    "    with tf.name_scope('placeholders'):\n",
    "        inputs = tf.placeholder(dtype=tf.int32, shape=(None, SENTENCE_LIMIT_SIZE), name='inputs')\n",
    "        targets = tf.placeholder(dtype=tf.float32, shape=(None, 1), name='targets')\n",
    "        \n",
    "    with tf.name_scope('embeddings'):\n",
    "        embedding_matrix = tf.Variable(initial_value=static_embeddings, trainable=False,\n",
    "                                       name='embedding_matrix')\n",
    "        embed = tf.nn.embedding_lookup(embedding_matrix, inputs, name='embed')\n",
    "        embed_expanded = tf.expand_dims(embed, -1, name='embed_expand')\n",
    "    \n",
    "    pooled_outputs = []\n",
    "        \n",
    "    for i, filter_size in enumerate(filters_size):\n",
    "        with tf.name_scope(f'conv_maxpool_{filter_size}'):\n",
    "            filter_shape = [filter_size, EMBEDDING_SIZE, 1, num_filters]\n",
    "            W = tf.Variable(tf.truncated_normal(filter_shape, mean=0.0, stddev=0.1), name='W')\n",
    "            b = tf.Variable(tf.zeros(num_filters), name='b')\n",
    "            \n",
    "            conv = tf.nn.conv2d(input=embed_expanded,\n",
    "                                filter=W,\n",
    "                                strides=[1,1,1,1],\n",
    "                                padding='VALID',\n",
    "                                name='conv')\n",
    "            a = tf.nn.relu(tf.nn.bias_add(conv, b), name='activations')\n",
    "            max_pooling = tf.nn.max_pool(value=a,\n",
    "                                         ksize=[1, SENTENCE_LIMIT_SIZE - filter_size + 1, 1, 1],\n",
    "                                         strides=[1, 1, 1, 1],\n",
    "                                         padding='VALID',\n",
    "                                         name='max_pooling')\n",
    "            pooled_outputs.append(max_pooling)\n",
    "    \n",
    "    total_filters = num_filters * len(filters_size)\n",
    "    total_pool = tf.concat(pooled_outputs, 3)\n",
    "    flattend_pool = tf.reshape(total_pool, (-1, total_filters))\n",
    "    \n",
    "    with tf.name_scope('dropout'):\n",
    "        dropout = tf.nn.dropout(flattend_pool, KEEP_PROB)\n",
    "    \n",
    "    with tf.variable_scope('output'):\n",
    "        W = tf.get_variable('W', shape=(total_filters, 1), \n",
    "                            initializer=tf.contrib.layers.xavier_initializer())\n",
    "        b = tf.Variable(tf.zeros(1), name='b')\n",
    "        \n",
    "        logits = tf.add(tf.matmul(dropout, W), b)\n",
    "        predictions = tf.nn.sigmoid(logits, name='predictions')\n",
    "    \n",
    "        \n",
    "    with tf.name_scope('loss'):\n",
    "        loss = tf.reduce_mean(tf.nn.sigmoid_cross_entropy_with_logits(labels=targets, logits=logits))\n",
    "        loss = loss + L2_LAMBDA * tf.nn.l2_loss(W)\n",
    "    \n",
    "    with tf.name_scope('optimizer'):\n",
    "        optimizer = tf.train.AdamOptimizer(LEARNING_RATE).minimize(loss)\n",
    "    \n",
    "    with tf.name_scope('evaluation'):\n",
    "        correct_preds = tf.equal(tf.cast(tf.greater(predictions, 0.5), tf.float32), targets)\n",
    "        accuracy = tf.reduce_sum(tf.reduce_sum(tf.cast(correct_preds, tf.float32), axis=1))"
   ],
   "metadata": {
    "collapsed": false,
    "pycharm": {
     "name": "#%%\n",
     "is_executing": false
    }
   }
  },
  {
   "cell_type": "code",
   "execution_count": 63,
   "outputs": [],
   "source": [
    "cnn_train_accuracy = []\n",
    "cnn_test_accuracy = []\n",
    "saver = tf.train.Saver()"
   ],
   "metadata": {
    "collapsed": false,
    "pycharm": {
     "name": "#%%\n",
     "is_executing": false
    }
   }
  },
  {
   "cell_type": "code",
   "execution_count": 64,
   "outputs": [
    {
     "name": "stdout",
     "text": [
      "Epoch: 1, Train loss: 7.2215, Train accuracy: 71.7083%, Test accuracy: 65.4477%\n",
      "Epoch: 2, Train loss: 2.8657, Train accuracy: 76.6913%, Test accuracy: 69.0108%\n",
      "Epoch: 3, Train loss: 1.2688, Train accuracy: 76.8203%, Test accuracy: 69.7609%\n",
      "Epoch: 4, Train loss: 0.7770, Train accuracy: 77.7817%, Test accuracy: 71.1205%\n",
      "Epoch: 5, Train loss: 0.6475, Train accuracy: 77.5237%, Test accuracy: 71.8706%\n",
      "Epoch: 6, Train loss: 0.6073, Train accuracy: 77.4299%, Test accuracy: 72.5270%\n",
      "Epoch: 7, Train loss: 0.5851, Train accuracy: 75.8471%, Test accuracy: 71.0736%\n",
      "Epoch: 8, Train loss: 0.5692, Train accuracy: 76.9375%, Test accuracy: 72.1050%\n",
      "Epoch: 9, Train loss: 0.5570, Train accuracy: 78.0514%, Test accuracy: 72.7145%\n",
      "Epoch: 10, Train loss: 0.5463, Train accuracy: 78.0865%, Test accuracy: 72.6207%\n",
      "Epoch: 11, Train loss: 0.5362, Train accuracy: 78.6376%, Test accuracy: 73.1364%\n",
      "Epoch: 12, Train loss: 0.5286, Train accuracy: 79.1535%, Test accuracy: 73.5584%\n",
      "Epoch: 13, Train loss: 0.5223, Train accuracy: 79.6459%, Test accuracy: 72.6676%\n",
      "Epoch: 14, Train loss: 0.5161, Train accuracy: 79.5873%, Test accuracy: 72.9489%\n",
      "Epoch: 15, Train loss: 0.5071, Train accuracy: 78.6259%, Test accuracy: 71.8237%\n",
      "Epoch: 16, Train loss: 0.5037, Train accuracy: 81.0998%, Test accuracy: 74.2147%\n",
      "Epoch: 17, Train loss: 0.5015, Train accuracy: 80.9239%, Test accuracy: 73.3708%\n",
      "Epoch: 18, Train loss: 0.4933, Train accuracy: 81.3225%, Test accuracy: 73.9334%\n",
      "Epoch: 19, Train loss: 0.4911, Train accuracy: 81.4984%, Test accuracy: 74.1678%\n",
      "Epoch: 20, Train loss: 0.4840, Train accuracy: 81.2991%, Test accuracy: 73.6990%\n",
      "Epoch: 21, Train loss: 0.4780, Train accuracy: 82.3543%, Test accuracy: 73.2302%\n",
      "Epoch: 22, Train loss: 0.4787, Train accuracy: 82.3426%, Test accuracy: 73.6521%\n",
      "Epoch: 23, Train loss: 0.4711, Train accuracy: 82.3191%, Test accuracy: 73.6521%\n",
      "Epoch: 24, Train loss: 0.4676, Train accuracy: 82.8702%, Test accuracy: 73.8397%\n",
      "Epoch: 25, Train loss: 0.4650, Train accuracy: 83.2688%, Test accuracy: 73.8865%\n",
      "Epoch: 26, Train loss: 0.4620, Train accuracy: 83.5854%, Test accuracy: 73.8397%\n",
      "Epoch: 27, Train loss: 0.4576, Train accuracy: 83.6792%, Test accuracy: 74.4023%\n",
      "Epoch: 28, Train loss: 0.4495, Train accuracy: 84.1365%, Test accuracy: 74.1210%\n",
      "Epoch: 29, Train loss: 0.4485, Train accuracy: 84.3710%, Test accuracy: 74.6367%\n",
      "Epoch: 30, Train loss: 0.4441, Train accuracy: 83.8434%, Test accuracy: 72.8551%\n",
      "Epoch: 31, Train loss: 0.4462, Train accuracy: 85.0276%, Test accuracy: 74.4960%\n",
      "Epoch: 32, Train loss: 0.4408, Train accuracy: 85.5786%, Test accuracy: 74.1678%\n",
      "Epoch: 33, Train loss: 0.4374, Train accuracy: 85.5552%, Test accuracy: 74.6367%\n",
      "Epoch: 34, Train loss: 0.4306, Train accuracy: 86.4345%, Test accuracy: 74.6835%\n",
      "Epoch: 35, Train loss: 0.4273, Train accuracy: 85.4145%, Test accuracy: 73.8397%\n",
      "Epoch: 36, Train loss: 0.4268, Train accuracy: 86.6573%, Test accuracy: 74.4023%\n",
      "Epoch: 37, Train loss: 0.4210, Train accuracy: 86.7863%, Test accuracy: 74.2616%\n",
      "Epoch: 38, Train loss: 0.4170, Train accuracy: 87.5601%, Test accuracy: 74.0741%\n",
      "Epoch: 39, Train loss: 0.4155, Train accuracy: 87.6304%, Test accuracy: 75.3399%\n",
      "Epoch: 40, Train loss: 0.4115, Train accuracy: 87.6656%, Test accuracy: 74.9648%\n",
      "Epoch: 41, Train loss: 0.4094, Train accuracy: 87.9470%, Test accuracy: 74.3554%\n",
      "Epoch: 42, Train loss: 0.4087, Train accuracy: 87.9236%, Test accuracy: 74.6835%\n",
      "Epoch: 43, Train loss: 0.4009, Train accuracy: 88.2753%, Test accuracy: 74.5898%\n",
      "Epoch: 44, Train loss: 0.4011, Train accuracy: 88.5919%, Test accuracy: 74.5429%\n",
      "Epoch: 45, Train loss: 0.3962, Train accuracy: 88.9084%, Test accuracy: 75.0117%\n",
      "Epoch: 46, Train loss: 0.3923, Train accuracy: 89.4478%, Test accuracy: 75.0586%\n",
      "Epoch: 47, Train loss: 0.3909, Train accuracy: 89.3540%, Test accuracy: 74.8242%\n",
      "Epoch: 48, Train loss: 0.3880, Train accuracy: 89.6940%, Test accuracy: 74.8711%\n",
      "Epoch: 49, Train loss: 0.3849, Train accuracy: 90.2685%, Test accuracy: 74.9180%\n",
      "Epoch: 50, Train loss: 0.3823, Train accuracy: 89.9871%, Test accuracy: 74.8242%\n",
      "Epoch: 51, Train loss: 0.3812, Train accuracy: 90.4913%, Test accuracy: 74.6835%\n",
      "Epoch: 52, Train loss: 0.3777, Train accuracy: 89.3071%, Test accuracy: 73.8865%\n",
      "Epoch: 53, Train loss: 0.3746, Train accuracy: 91.0775%, Test accuracy: 74.4960%\n",
      "Epoch: 54, Train loss: 0.3715, Train accuracy: 91.1947%, Test accuracy: 75.5743%\n",
      "Epoch: 55, Train loss: 0.3664, Train accuracy: 91.2534%, Test accuracy: 75.3868%\n",
      "Epoch: 56, Train loss: 0.3659, Train accuracy: 91.7810%, Test accuracy: 75.0586%\n",
      "Epoch: 57, Train loss: 0.3649, Train accuracy: 91.2885%, Test accuracy: 75.0117%\n",
      "Epoch: 58, Train loss: 0.3633, Train accuracy: 91.8279%, Test accuracy: 75.1524%\n",
      "Epoch: 59, Train loss: 0.3581, Train accuracy: 92.0389%, Test accuracy: 74.7773%\n",
      "Epoch: 60, Train loss: 0.3586, Train accuracy: 89.7057%, Test accuracy: 73.6521%\n",
      "Epoch: 61, Train loss: 0.3556, Train accuracy: 92.6955%, Test accuracy: 75.2461%\n",
      "Epoch: 62, Train loss: 0.3519, Train accuracy: 92.2734%, Test accuracy: 74.0272%\n",
      "Epoch: 63, Train loss: 0.3470, Train accuracy: 92.7776%, Test accuracy: 75.1055%\n",
      "Epoch: 64, Train loss: 0.3469, Train accuracy: 92.7776%, Test accuracy: 75.6681%\n",
      "Epoch: 65, Train loss: 0.3465, Train accuracy: 92.5900%, Test accuracy: 74.0741%\n",
      "Epoch: 66, Train loss: 0.3395, Train accuracy: 93.4342%, Test accuracy: 74.7304%\n",
      "Epoch: 67, Train loss: 0.3371, Train accuracy: 93.6452%, Test accuracy: 75.3868%\n",
      "Epoch: 68, Train loss: 0.3339, Train accuracy: 93.9149%, Test accuracy: 74.6367%\n",
      "Epoch: 69, Train loss: 0.3320, Train accuracy: 93.7390%, Test accuracy: 75.1055%\n",
      "Epoch: 70, Train loss: 0.3306, Train accuracy: 94.1376%, Test accuracy: 74.5898%\n",
      "Epoch: 71, Train loss: 0.3293, Train accuracy: 94.3252%, Test accuracy: 74.6835%\n",
      "Epoch: 72, Train loss: 0.3280, Train accuracy: 93.7038%, Test accuracy: 74.8711%\n",
      "Epoch: 73, Train loss: 0.3243, Train accuracy: 94.6418%, Test accuracy: 74.6835%\n",
      "Epoch: 74, Train loss: 0.3258, Train accuracy: 94.5832%, Test accuracy: 74.8242%\n",
      "Epoch: 75, Train loss: 0.3189, Train accuracy: 94.9232%, Test accuracy: 75.0117%\n",
      "Epoch: 76, Train loss: 0.3158, Train accuracy: 94.8060%, Test accuracy: 74.8242%\n",
      "Epoch: 77, Train loss: 0.3147, Train accuracy: 94.7942%, Test accuracy: 74.4491%\n",
      "Epoch: 78, Train loss: 0.3160, Train accuracy: 95.0991%, Test accuracy: 75.1992%\n",
      "Epoch: 79, Train loss: 0.3095, Train accuracy: 95.4391%, Test accuracy: 74.8711%\n",
      "Epoch: 80, Train loss: 0.3071, Train accuracy: 95.5446%, Test accuracy: 75.3399%\n",
      "Epoch: 81, Train loss: 0.3050, Train accuracy: 95.5329%, Test accuracy: 73.9803%\n",
      "Epoch: 82, Train loss: 0.3055, Train accuracy: 95.4039%, Test accuracy: 74.1210%\n",
      "Epoch: 83, Train loss: 0.3015, Train accuracy: 96.0488%, Test accuracy: 74.7304%\n",
      "Epoch: 84, Train loss: 0.3017, Train accuracy: 94.5832%, Test accuracy: 74.6835%\n",
      "Epoch: 85, Train loss: 0.3013, Train accuracy: 96.1660%, Test accuracy: 74.4023%\n",
      "Epoch: 86, Train loss: 0.2943, Train accuracy: 96.3302%, Test accuracy: 75.1524%\n",
      "Epoch: 87, Train loss: 0.2959, Train accuracy: 96.5295%, Test accuracy: 75.0117%\n",
      "Epoch: 88, Train loss: 0.2921, Train accuracy: 96.4122%, Test accuracy: 74.2147%\n",
      "Epoch: 89, Train loss: 0.2924, Train accuracy: 96.4826%, Test accuracy: 75.1524%\n",
      "Epoch: 90, Train loss: 0.2903, Train accuracy: 95.7908%, Test accuracy: 74.1210%\n",
      "Epoch: 91, Train loss: 0.2883, Train accuracy: 96.6350%, Test accuracy: 74.9180%\n",
      "Epoch: 92, Train loss: 0.2892, Train accuracy: 96.2481%, Test accuracy: 74.9648%\n",
      "Epoch: 93, Train loss: 0.2821, Train accuracy: 97.0454%, Test accuracy: 74.7304%\n",
      "Epoch: 94, Train loss: 0.2825, Train accuracy: 95.7205%, Test accuracy: 74.3554%\n",
      "Epoch: 95, Train loss: 0.2817, Train accuracy: 96.5764%, Test accuracy: 74.4960%\n",
      "Epoch: 96, Train loss: 0.2785, Train accuracy: 96.5412%, Test accuracy: 74.9648%\n",
      "Epoch: 97, Train loss: 0.2759, Train accuracy: 97.1040%, Test accuracy: 74.6835%\n",
      "Epoch: 98, Train loss: 0.2742, Train accuracy: 97.3619%, Test accuracy: 74.7773%\n",
      "Epoch: 99, Train loss: 0.2730, Train accuracy: 95.8612%, Test accuracy: 73.5584%\n",
      "Epoch: 100, Train loss: 0.2719, Train accuracy: 97.3854%, Test accuracy: 74.8242%\ntraining time: 31.6993s\n"
     ],
     "output_type": "stream"
    }
   ],
   "source": [
    "start = time.time()\n",
    "with tf.Session() as sess:\n",
    "    sess.run(tf.global_variables_initializer())\n",
    "    \n",
    "    writer = tf.summary.FileWriter('../graphs/cnn', tf.get_default_graph())\n",
    "    \n",
    "    n_batches = int(x_train.shape[0] / BATCH_SIZE)\n",
    "    \n",
    "    for epoch in range(EPOCHES):\n",
    "        total_loss = 0\n",
    "        \n",
    "        for x_batch, y_batch in get_batch(x_train, y_train):\n",
    "            _, batch_loss = sess.run([optimizer, loss], \n",
    "                                     feed_dict={inputs: x_batch, targets: y_batch})\n",
    "            \n",
    "            total_loss += batch_loss\n",
    "        \n",
    "        train_corrects = sess.run(accuracy, feed_dict={inputs: x_train, targets: y_train})\n",
    "        train_acc = train_corrects / x_train.shape[0]\n",
    "        cnn_train_accuracy.append(train_acc)\n",
    "        \n",
    "        test_corrects = sess.run(accuracy, feed_dict={inputs: x_test, targets: y_test})\n",
    "        test_acc = test_corrects / x_test.shape[0]\n",
    "        cnn_test_accuracy.append(test_acc)\n",
    "        \n",
    "        print(f'Epoch: {epoch+1}, Train loss: {total_loss/n_batches:.4f}, '\n",
    "              f'Train accuracy: {train_acc:.4%}, Test accuracy: {test_acc:.4%}')\n",
    "    \n",
    "    saver.save(sess, '../checkpoints/cnn')\n",
    "    writer.close()\n",
    "end = time.time()\n",
    "print(f'training time: {(end-start):.4f}s')"
   ],
   "metadata": {
    "collapsed": false,
    "pycharm": {
     "name": "#%%\n",
     "is_executing": false
    }
   }
  },
  {
   "cell_type": "code",
   "execution_count": 65,
   "outputs": [
    {
     "data": {
      "text/plain": "<matplotlib.legend.Legend at 0x7f0ff8ffe828>"
     },
     "metadata": {},
     "output_type": "execute_result",
     "execution_count": 65
    },
    {
     "data": {
      "text/plain": "<Figure size 432x288 with 1 Axes>",
      "image/png": "[encoded data removed]"
     },
     "metadata": {
      "needs_background": "light"
     },
     "output_type": "display_data"
    }
   ],
   "source": [
    "plt.plot(cnn_train_accuracy)\n",
    "plt.plot(cnn_test_accuracy)\n",
    "plt.ylim(ymin=0.5, ymax=1.01)\n",
    "plt.title('The accuracy of CNN model')\n",
    "plt.legend(['train', 'test'])"
   ],
   "metadata": {
    "collapsed": false,
    "pycharm": {
     "name": "#%%\n",
     "is_executing": false
    }
   }
  },
  {
   "cell_type": "code",
   "execution_count": 66,
   "outputs": [
    {
     "name": "stdout",
     "text": [
      "INFO:tensorflow:Restoring parameters from ../checkpoints/cnn\n",
      "The LSTM model accuracy on test set: 74.07%\n"
     ],
     "output_type": "stream"
    }
   ],
   "source": [
    "with tf.Session() as sess:\n",
    "    saver.restore(sess, '../checkpoints/cnn')\n",
    "    \n",
    "    total_correct = sess.run(accuracy,\n",
    "                             feed_dict={inputs: x_test, targets: y_test})\n",
    "\n",
    "    print(f'The LSTM model accuracy on test set: {(total_correct / x_test.shape[0]):.2%}')"
   ],
   "metadata": {
    "collapsed": false,
    "pycharm": {
     "name": "#%%\n",
     "is_executing": false
    }
   }
  },
  {
   "cell_type": "code",
   "execution_count": 83,
   "outputs": [],
   "source": [
    "tf.reset_default_graph()"
   ],
   "metadata": {
    "collapsed": false,
    "pycharm": {
     "name": "#%%\n",
     "is_executing": false
    }
   }
  },
  {
   "cell_type": "code",
   "execution_count": 84,
   "outputs": [],
   "source": [
    "filters_size = [2, 3, 4, 5, 6]\n",
    "num_filters = 100\n",
    "# 超参数\n",
    "BATCH_SIZE = 256\n",
    "EPOCHES = 10\n",
    "LEARNING_RATE = 0.001\n",
    "L2_LAMBDA = 10\n",
    "KEEP_PROB = 0.8"
   ],
   "metadata": {
    "collapsed": false,
    "pycharm": {
     "name": "#%%\n",
     "is_executing": false
    }
   }
  },
  {
   "cell_type": "code",
   "execution_count": 85,
   "outputs": [],
   "source": [
    "with tf.name_scope('cnn_multichannels'):\n",
    "    with tf.name_scope('placeholders'):\n",
    "        inputs = tf.placeholder(dtype=tf.int32, shape=(None, SENTENCE_LIMIT_SIZE), name='inputs')\n",
    "        targets = tf.placeholder(dtype=tf.float32, shape=(None, 1), name='targets')\n",
    "        \n",
    "    with tf.name_scope('embeddings'):\n",
    "        static_embedding_matrix = tf.Variable(initial_value=static_embeddings, trainable=False,\n",
    "                                       name='embedding_matrix')\n",
    "        static_embed = tf.nn.embedding_lookup(static_embedding_matrix, inputs, name='embed')\n",
    "        static_embed_expanded = tf.expand_dims(static_embed, -1, name='static_embed_expand')\n",
    "        \n",
    "        # non-static embeddings\n",
    "        dynamic_embedding_matrix = tf.Variable(tf.random_normal(shape=(VOCAB_SIZE,\n",
    "                                                                       EMBEDDING_SIZE),\n",
    "                                                                stddev=0.1),\n",
    "                                               trainable=True,\n",
    "                                               name='dynamic_embedding_matrix')\n",
    "        dynamic_embed = tf.nn.embedding_lookup(dynamic_embedding_matrix, \n",
    "                                               inputs, \n",
    "                                               name='dynamic_embed')\n",
    "        dynamic_embed_expanded = tf.expand_dims(dynamic_embed, -1, \n",
    "                                                name='dynamic_embed_expand')\n",
    "        embed_expanded = tf.concat((static_embed_expanded, \n",
    "                                    dynamic_embed_expanded),\n",
    "                                   axis=-1,\n",
    "                                   name='embed_expanded')\n",
    "    \n",
    "    pooled_outputs = []\n",
    "        \n",
    "    for i, filter_size in enumerate(filters_size):\n",
    "        with tf.name_scope(f'conv_maxpool_{filter_size}'):\n",
    "            filter_shape = [filter_size, EMBEDDING_SIZE, 2, num_filters]\n",
    "            W = tf.Variable(tf.truncated_normal(filter_shape, mean=0.0, stddev=0.1), name='W')\n",
    "            b = tf.Variable(tf.zeros(num_filters), name='b')\n",
    "            \n",
    "            conv = tf.nn.conv2d(input=embed_expanded,\n",
    "                                filter=W,\n",
    "                                strides=[1,1,1,1],\n",
    "                                padding='VALID',\n",
    "                                name='conv')\n",
    "            a = tf.nn.relu(tf.nn.bias_add(conv, b), name='activations')\n",
    "            max_pooling = tf.nn.max_pool(value=a,\n",
    "                                         ksize=[1, SENTENCE_LIMIT_SIZE-filter_size+1, 1, 1],\n",
    "                                         strides=[1, 1, 1, 1],\n",
    "                                         padding='VALID',\n",
    "                                         name='max_pooling')\n",
    "            pooled_outputs.append(max_pooling)\n",
    "    \n",
    "    total_filters = num_filters * len(filters_size)\n",
    "    total_pool = tf.concat(pooled_outputs, 3)\n",
    "    flattend_pool = tf.reshape(total_pool, (-1, total_filters))\n",
    "    \n",
    "    with tf.name_scope('dropout'):\n",
    "        dropout = tf.nn.dropout(flattend_pool, KEEP_PROB)\n",
    "    \n",
    "    with tf.variable_scope('output'):\n",
    "        W = tf.get_variable('W', shape=(total_filters, 1), \n",
    "                            initializer=tf.contrib.layers.xavier_initializer())\n",
    "        b = tf.Variable(tf.zeros(1), name='b')\n",
    "        \n",
    "        logits = tf.add(tf.matmul(dropout, W), b)\n",
    "        predictions = tf.nn.sigmoid(logits, name='predictions')\n",
    "    \n",
    "        \n",
    "    with tf.name_scope('loss'):\n",
    "        loss = tf.reduce_mean(tf.nn.sigmoid_cross_entropy_with_logits(labels=targets, \n",
    "                                                                      logits=logits))\n",
    "        loss = loss + L2_LAMBDA * tf.nn.l2_loss(W)\n",
    "    \n",
    "    with tf.name_scope('optimizer'):\n",
    "        optimizer = tf.train.AdamOptimizer(LEARNING_RATE).minimize(loss)\n",
    "    \n",
    "    with tf.name_scope('evaluation'):\n",
    "        correct_preds = tf.equal(tf.cast(tf.greater(predictions, 0.5), tf.float32), targets)\n",
    "        accuracy = tf.reduce_sum(tf.reduce_sum(tf.cast(correct_preds, tf.float32), axis=1))"
   ],
   "metadata": {
    "collapsed": false,
    "pycharm": {
     "name": "#%%\n",
     "is_executing": false
    }
   }
  },
  {
   "cell_type": "code",
   "execution_count": 90,
   "outputs": [],
   "source": [
    "multi_cnn_train_accuracy = []\n",
    "multi_cnn_test_accuracy = []"
   ],
   "metadata": {
    "collapsed": false,
    "pycharm": {
     "name": "#%%\n",
     "is_executing": false
    }
   }
  },
  {
   "cell_type": "code",
   "execution_count": 91,
   "outputs": [],
   "source": [
    "saver = tf.train.Saver()"
   ],
   "metadata": {
    "collapsed": false,
    "pycharm": {
     "name": "#%%\n",
     "is_executing": false
    }
   }
  },
  {
   "cell_type": "code",
   "execution_count": 92,
   "outputs": [
    {
     "name": "stdout",
     "text": [
      "Epoch: 1, Train loss: 7.2252, Train accuracy: 74.9443%, Test accuracy: 66.5260%\n",
      "Epoch: 2, Train loss: 2.8851, Train accuracy: 82.0026%, Test accuracy: 67.6981%\n",
      "Epoch: 3, Train loss: 1.2689, Train accuracy: 84.5117%, Test accuracy: 69.8078%\n",
      "Epoch: 4, Train loss: 0.7627, Train accuracy: 84.6875%, Test accuracy: 70.2297%\n",
      "Epoch: 5, Train loss: 0.6237, Train accuracy: 84.7579%, Test accuracy: 72.4332%\n",
      "Epoch: 6, Train loss: 0.5689, Train accuracy: 84.5820%, Test accuracy: 73.6990%\n",
      "Epoch: 7, Train loss: 0.5305, Train accuracy: 85.7779%, Test accuracy: 73.6990%\n",
      "Epoch: 8, Train loss: 0.4897, Train accuracy: 86.9739%, Test accuracy: 74.4960%\n",
      "Epoch: 9, Train loss: 0.4474, Train accuracy: 89.5650%, Test accuracy: 74.7773%\n",
      "Epoch: 10, Train loss: 0.4059, Train accuracy: 90.9251%, Test accuracy: 73.8865%\n",
      "training time: 7.9128s\n"
     ],
     "output_type": "stream"
    }
   ],
   "source": [
    "start = time.time()\n",
    "with tf.Session() as sess:\n",
    "    sess.run(tf.global_variables_initializer())\n",
    "    \n",
    "    writer = tf.summary.FileWriter('../graphs/multi_cnn', tf.get_default_graph())\n",
    "    \n",
    "    n_batches = int(x_train.shape[0] / BATCH_SIZE)\n",
    "    \n",
    "    for epoch in range(EPOCHES):\n",
    "        total_loss = 0\n",
    "        \n",
    "        for x_batch, y_batch in get_batch(x_train, y_train):\n",
    "            _, batch_loss = sess.run([optimizer, loss], \n",
    "                                     feed_dict={inputs: x_batch, targets: y_batch})\n",
    "            \n",
    "            total_loss += batch_loss\n",
    "        \n",
    "        train_corrects = sess.run(accuracy, feed_dict={inputs: x_train, targets: y_train})\n",
    "        train_acc = train_corrects / x_train.shape[0]\n",
    "        multi_cnn_train_accuracy.append(train_acc)\n",
    "        \n",
    "        test_corrects = sess.run(accuracy, feed_dict={inputs: x_test, targets: y_test})\n",
    "        test_acc = test_corrects / x_test.shape[0]\n",
    "        multi_cnn_test_accuracy.append(test_acc)\n",
    "        \n",
    "        print(f'Epoch: {epoch+1}, Train loss: {total_loss/n_batches:.4f}, '\n",
    "              f'Train accuracy: {train_acc:.4%}, Test accuracy: {test_acc:.4%}')\n",
    "    \n",
    "    saver.save(sess, '../checkpoints/multi_cnn')\n",
    "    writer.close()\n",
    "end = time.time()\n",
    "print(f'training time: {(end-start):.4f}s')"
   ],
   "metadata": {
    "collapsed": false,
    "pycharm": {
     "name": "#%%\n",
     "is_executing": false
    }
   }
  },
  {
   "cell_type": "code",
   "execution_count": 93,
   "outputs": [
    {
     "data": {
      "text/plain": "<matplotlib.legend.Legend at 0x7f0fe451ba90>"
     },
     "metadata": {},
     "output_type": "execute_result",
     "execution_count": 93
    },
    {
     "data": {
      "text/plain": "<Figure size 432x288 with 1 Axes>",
      "image/png": "[encoded data removed]"
     },
     "metadata": {
      "needs_background": "light"
     },
     "output_type": "display_data"
    }
   ],
   "source": [
    "plt.plot(multi_cnn_train_accuracy)\n",
    "plt.plot(multi_cnn_test_accuracy)\n",
    "plt.ylim(ymin=0.5, ymax=1.01)\n",
    "plt.title('The accuracy of multi-channel CNN model')\n",
    "plt.legend(['train', 'test'])"
   ],
   "metadata": {
    "collapsed": false,
    "pycharm": {
     "name": "#%%\n",
     "is_executing": false
    }
   }
  },
  {
   "cell_type": "code",
   "execution_count": 95,
   "outputs": [
    {
     "name": "stdout",
     "text": [
      "INFO:tensorflow:Restoring parameters from ../checkpoints/multi_cnn\n",
      "The LSTM model accuracy on test set: 74.50%\n"
     ],
     "output_type": "stream"
    }
   ],
   "source": [
    "with tf.Session() as sess:\n",
    "    saver.restore(sess, '../checkpoints/multi_cnn')\n",
    "    \n",
    "    total_correct = sess.run(accuracy,\n",
    "                             feed_dict={inputs: x_test, targets: y_test})\n",
    "\n",
    "    print(f'The LSTM model accuracy on test set: {(total_correct / x_test.shape[0]):.2%}')"
   ],
   "metadata": {
    "collapsed": false,
    "pycharm": {
     "name": "#%%\n",
     "is_executing": false
    }
   }
  }
 ],
 "metadata": {
  "language_info": {
   "codemirror_mode": {
    "name": "ipython",
    "version": 2
   },
   "file_extension": ".py",
   "mimetype": "text/x-python",
   "name": "python",
   "nbconvert_exporter": "python",
   "pygments_lexer": "ipython2",
   "version": "2.7.6"
  },
  "kernelspec": {
   "name": "python3",
   "language": "python",
   "display_name": "Python 3"
  },
  "pycharm": {
   "stem_cell": {
    "cell_type": "raw",
    "source": [],
    "metadata": {
     "collapsed": false
    }
   }
  }
 },
 "nbformat": 4,
 "nbformat_minor": 0
}